{
 "cells": [
  {
   "cell_type": "markdown",
   "id": "3a60bd54",
   "metadata": {},
   "source": [
    "# Summary\n",
    "\n",
    "On April 15, 1912, during her maiden voyage, the widely considered “unsinkable” RMS Titanic sank after colliding with an iceberg. Unfortunately, there weren’t enough lifeboats for everyone onboard, resulting in the death of 1502 out of 2224 passengers and crew.\n",
    "\n",
    "Based on the given feature variables (e.g. age, sex etc.) this workbook  aims to predict who was more likely to survive the incident.\n",
    "\n",
    "Framework:\n",
    "\n",
    "1. Problem Definition \n",
    "2. Data\n",
    "3. Evaluation \n",
    "4. Features\n",
    "5. Modelling\n",
    "6. Experimentation (tuning)"
   ]
  },
  {
   "cell_type": "markdown",
   "id": "ee11454a",
   "metadata": {},
   "source": [
    "## 1. Problem Definition \n",
    "\n",
    "> Based on the given characteristics of a person (age, sex) and their socio-economic status who was more likely to survive the Titanic incident in 1912."
   ]
  },
  {
   "cell_type": "markdown",
   "id": "645ba2f6",
   "metadata": {},
   "source": [
    "## 2. Data \n",
    "\n",
    "> The data is available on Kaggle : https://www.kaggle.com/c/titanic/overview and comes in two parts:\n",
    "    Training and Test sets "
   ]
  },
  {
   "cell_type": "markdown",
   "id": "701a9942",
   "metadata": {},
   "source": [
    "## 3. Evaluation \n",
    "\n",
    "> As per the competition's rules, the evaluation is based on the submitted predictions' accuracy score, nontheless this workbook will explore other evaluation metrics available in Scikit-learn as well. (E.g. cross-validation accuracy score, precision, recall and f1 scores)"
   ]
  },
  {
   "cell_type": "markdown",
   "id": "567f6ce9",
   "metadata": {},
   "source": [
    "## 4. Features\n",
    "\n",
    "* pclass : Ticket class\n",
    "    1 = 1st, 2 = 2nd, 3 = 3rd\n",
    "* sex\n",
    "    male, female\n",
    "* Age : Age in years\n",
    "* sibsp : # of siblings / spouses aboard the Titanic\n",
    "* parch: # of parents / children aboard the Titanic\n",
    "* ticket : Ticket number\n",
    "* fare: Passenger fare\n",
    "* cabin: Cabin number\n",
    "* embarked :Port of Embarkation\n",
    "    C = Cherbourg, Q = Queenstown, S = Southampton\n",
    "\n",
    "Plus Dependent Variable: Survival: 0 = No, 1 = Yes"
   ]
  },
  {
   "cell_type": "markdown",
   "id": "083cad32",
   "metadata": {},
   "source": [
    "## 5. Modelling\n",
    "\n",
    "### Phase 1 : EDA Process"
   ]
  },
  {
   "cell_type": "code",
   "execution_count": 1,
   "id": "cb3eb32d",
   "metadata": {},
   "outputs": [],
   "source": [
    "# Import necessary packages \n",
    "\n",
    "import pandas as pd\n",
    "import numpy as np\n",
    "import matplotlib.pyplot as plt \n",
    "import seaborn as sns\n",
    "\n",
    "# Import modelling tools \n",
    "\n",
    "from sklearn.ensemble import RandomForestClassifier, GradientBoostingClassifier\n",
    "from sklearn.neighbors import KNeighborsClassifier\n",
    "from sklearn.linear_model import LogisticRegression\n",
    "from sklearn.svm import SVC\n",
    "\n",
    "# Preprocessing tools\n",
    "\n",
    "from sklearn.model_selection import train_test_split\n",
    "from sklearn.preprocessing import OneHotEncoder\n",
    "from sklearn.compose import ColumnTransformer\n",
    "from sklearn.impute import SimpleImputer\n",
    "from sklearn.preprocessing import MinMaxScaler, MaxAbsScaler\n",
    "from sklearn.pipeline import Pipeline\n",
    "from sklearn.preprocessing import LabelEncoder\n",
    "\n",
    "#Hyperparameter tuning\n",
    "from sklearn.model_selection import GridSearchCV, RandomizedSearchCV\n",
    "\n",
    "# Evaluation metrics \n",
    "\n",
    "from sklearn.model_selection import cross_val_score, StratifiedKFold\n",
    "from sklearn.metrics import classification_report, ConfusionMatrixDisplay, RocCurveDisplay, recall_score, precision_score, f1_score"
   ]
  },
  {
   "cell_type": "code",
   "execution_count": 2,
   "id": "52c750e3",
   "metadata": {},
   "outputs": [
    {
     "data": {
      "text/html": [
       "<div>\n",
       "<style scoped>\n",
       "    .dataframe tbody tr th:only-of-type {\n",
       "        vertical-align: middle;\n",
       "    }\n",
       "\n",
       "    .dataframe tbody tr th {\n",
       "        vertical-align: top;\n",
       "    }\n",
       "\n",
       "    .dataframe thead th {\n",
       "        text-align: right;\n",
       "    }\n",
       "</style>\n",
       "<table border=\"1\" class=\"dataframe\">\n",
       "  <thead>\n",
       "    <tr style=\"text-align: right;\">\n",
       "      <th></th>\n",
       "      <th>Age</th>\n",
       "      <th>Cabin</th>\n",
       "      <th>Embarked</th>\n",
       "      <th>Fare</th>\n",
       "      <th>Name</th>\n",
       "      <th>Parch</th>\n",
       "      <th>PassengerId</th>\n",
       "      <th>Pclass</th>\n",
       "      <th>Sex</th>\n",
       "      <th>SibSp</th>\n",
       "      <th>Survived</th>\n",
       "      <th>Ticket</th>\n",
       "    </tr>\n",
       "  </thead>\n",
       "  <tbody>\n",
       "    <tr>\n",
       "      <th>0</th>\n",
       "      <td>22.0</td>\n",
       "      <td>NaN</td>\n",
       "      <td>S</td>\n",
       "      <td>7.2500</td>\n",
       "      <td>Braund, Mr. Owen Harris</td>\n",
       "      <td>0</td>\n",
       "      <td>1</td>\n",
       "      <td>3</td>\n",
       "      <td>male</td>\n",
       "      <td>1</td>\n",
       "      <td>0.0</td>\n",
       "      <td>A/5 21171</td>\n",
       "    </tr>\n",
       "    <tr>\n",
       "      <th>1</th>\n",
       "      <td>38.0</td>\n",
       "      <td>C85</td>\n",
       "      <td>C</td>\n",
       "      <td>71.2833</td>\n",
       "      <td>Cumings, Mrs. John Bradley (Florence Briggs Th...</td>\n",
       "      <td>0</td>\n",
       "      <td>2</td>\n",
       "      <td>1</td>\n",
       "      <td>female</td>\n",
       "      <td>1</td>\n",
       "      <td>1.0</td>\n",
       "      <td>PC 17599</td>\n",
       "    </tr>\n",
       "    <tr>\n",
       "      <th>2</th>\n",
       "      <td>26.0</td>\n",
       "      <td>NaN</td>\n",
       "      <td>S</td>\n",
       "      <td>7.9250</td>\n",
       "      <td>Heikkinen, Miss. Laina</td>\n",
       "      <td>0</td>\n",
       "      <td>3</td>\n",
       "      <td>3</td>\n",
       "      <td>female</td>\n",
       "      <td>0</td>\n",
       "      <td>1.0</td>\n",
       "      <td>STON/O2. 3101282</td>\n",
       "    </tr>\n",
       "    <tr>\n",
       "      <th>3</th>\n",
       "      <td>35.0</td>\n",
       "      <td>C123</td>\n",
       "      <td>S</td>\n",
       "      <td>53.1000</td>\n",
       "      <td>Futrelle, Mrs. Jacques Heath (Lily May Peel)</td>\n",
       "      <td>0</td>\n",
       "      <td>4</td>\n",
       "      <td>1</td>\n",
       "      <td>female</td>\n",
       "      <td>1</td>\n",
       "      <td>1.0</td>\n",
       "      <td>113803</td>\n",
       "    </tr>\n",
       "    <tr>\n",
       "      <th>4</th>\n",
       "      <td>35.0</td>\n",
       "      <td>NaN</td>\n",
       "      <td>S</td>\n",
       "      <td>8.0500</td>\n",
       "      <td>Allen, Mr. William Henry</td>\n",
       "      <td>0</td>\n",
       "      <td>5</td>\n",
       "      <td>3</td>\n",
       "      <td>male</td>\n",
       "      <td>0</td>\n",
       "      <td>0.0</td>\n",
       "      <td>373450</td>\n",
       "    </tr>\n",
       "  </tbody>\n",
       "</table>\n",
       "</div>"
      ],
      "text/plain": [
       "    Age Cabin Embarked     Fare  \\\n",
       "0  22.0   NaN        S   7.2500   \n",
       "1  38.0   C85        C  71.2833   \n",
       "2  26.0   NaN        S   7.9250   \n",
       "3  35.0  C123        S  53.1000   \n",
       "4  35.0   NaN        S   8.0500   \n",
       "\n",
       "                                                Name  Parch  PassengerId  \\\n",
       "0                            Braund, Mr. Owen Harris      0            1   \n",
       "1  Cumings, Mrs. John Bradley (Florence Briggs Th...      0            2   \n",
       "2                             Heikkinen, Miss. Laina      0            3   \n",
       "3       Futrelle, Mrs. Jacques Heath (Lily May Peel)      0            4   \n",
       "4                           Allen, Mr. William Henry      0            5   \n",
       "\n",
       "   Pclass     Sex  SibSp  Survived            Ticket  \n",
       "0       3    male      1       0.0         A/5 21171  \n",
       "1       1  female      1       1.0          PC 17599  \n",
       "2       3  female      0       1.0  STON/O2. 3101282  \n",
       "3       1  female      1       1.0            113803  \n",
       "4       3    male      0       0.0            373450  "
      ]
     },
     "execution_count": 2,
     "metadata": {},
     "output_type": "execute_result"
    }
   ],
   "source": [
    "# Import Training and Test sets as a DataFrames\n",
    "\n",
    "df_training = pd.read_csv(\"train.csv\")\n",
    "df_test = pd.read_csv(\"test.csv\")\n",
    "df_combined = pd.concat([df_training, df_test], sort = True).reset_index(drop = True)\n",
    "df_combined.head()"
   ]
  },
  {
   "cell_type": "code",
   "execution_count": 3,
   "id": "a2226b8b",
   "metadata": {
    "scrolled": true
   },
   "outputs": [
    {
     "name": "stdout",
     "output_type": "stream",
     "text": [
      "<class 'pandas.core.frame.DataFrame'>\n",
      "RangeIndex: 891 entries, 0 to 890\n",
      "Data columns (total 12 columns):\n",
      " #   Column       Non-Null Count  Dtype  \n",
      "---  ------       --------------  -----  \n",
      " 0   PassengerId  891 non-null    int64  \n",
      " 1   Survived     891 non-null    int64  \n",
      " 2   Pclass       891 non-null    int64  \n",
      " 3   Name         891 non-null    object \n",
      " 4   Sex          891 non-null    object \n",
      " 5   Age          714 non-null    float64\n",
      " 6   SibSp        891 non-null    int64  \n",
      " 7   Parch        891 non-null    int64  \n",
      " 8   Ticket       891 non-null    object \n",
      " 9   Fare         891 non-null    float64\n",
      " 10  Cabin        204 non-null    object \n",
      " 11  Embarked     889 non-null    object \n",
      "dtypes: float64(2), int64(5), object(5)\n",
      "memory usage: 83.7+ KB\n"
     ]
    }
   ],
   "source": [
    "df_training.info()"
   ]
  },
  {
   "cell_type": "code",
   "execution_count": 4,
   "id": "855772d6",
   "metadata": {},
   "outputs": [],
   "source": [
    "# There are missing values in 'Age', 'Embarked' and 'Cabin' columns. "
   ]
  },
  {
   "cell_type": "code",
   "execution_count": 5,
   "id": "15288505",
   "metadata": {
    "scrolled": false
   },
   "outputs": [
    {
     "name": "stdout",
     "output_type": "stream",
     "text": [
      "<class 'pandas.core.frame.DataFrame'>\n",
      "RangeIndex: 418 entries, 0 to 417\n",
      "Data columns (total 11 columns):\n",
      " #   Column       Non-Null Count  Dtype  \n",
      "---  ------       --------------  -----  \n",
      " 0   PassengerId  418 non-null    int64  \n",
      " 1   Pclass       418 non-null    int64  \n",
      " 2   Name         418 non-null    object \n",
      " 3   Sex          418 non-null    object \n",
      " 4   Age          332 non-null    float64\n",
      " 5   SibSp        418 non-null    int64  \n",
      " 6   Parch        418 non-null    int64  \n",
      " 7   Ticket       418 non-null    object \n",
      " 8   Fare         417 non-null    float64\n",
      " 9   Cabin        91 non-null     object \n",
      " 10  Embarked     418 non-null    object \n",
      "dtypes: float64(2), int64(4), object(5)\n",
      "memory usage: 36.0+ KB\n"
     ]
    }
   ],
   "source": [
    "df_test.info()"
   ]
  },
  {
   "cell_type": "code",
   "execution_count": 6,
   "id": "cb115a85",
   "metadata": {},
   "outputs": [],
   "source": [
    "# There are missing values in 'Age', 'Fare' and 'Cabin' columns."
   ]
  },
  {
   "cell_type": "code",
   "execution_count": 7,
   "id": "bcb059c3",
   "metadata": {},
   "outputs": [
    {
     "data": {
      "text/html": [
       "<div>\n",
       "<style scoped>\n",
       "    .dataframe tbody tr th:only-of-type {\n",
       "        vertical-align: middle;\n",
       "    }\n",
       "\n",
       "    .dataframe tbody tr th {\n",
       "        vertical-align: top;\n",
       "    }\n",
       "\n",
       "    .dataframe thead th {\n",
       "        text-align: right;\n",
       "    }\n",
       "</style>\n",
       "<table border=\"1\" class=\"dataframe\">\n",
       "  <thead>\n",
       "    <tr style=\"text-align: right;\">\n",
       "      <th></th>\n",
       "      <th>Age</th>\n",
       "      <th>Cabin</th>\n",
       "      <th>Embarked</th>\n",
       "      <th>Fare</th>\n",
       "      <th>Name</th>\n",
       "      <th>Parch</th>\n",
       "      <th>PassengerId</th>\n",
       "      <th>Pclass</th>\n",
       "      <th>Sex</th>\n",
       "      <th>SibSp</th>\n",
       "      <th>Survived</th>\n",
       "      <th>Ticket</th>\n",
       "    </tr>\n",
       "  </thead>\n",
       "  <tbody>\n",
       "    <tr>\n",
       "      <th>count</th>\n",
       "      <td>1046.000000</td>\n",
       "      <td>295</td>\n",
       "      <td>1307</td>\n",
       "      <td>1308.000000</td>\n",
       "      <td>1309</td>\n",
       "      <td>1309.000000</td>\n",
       "      <td>1309.000000</td>\n",
       "      <td>1309.000000</td>\n",
       "      <td>1309</td>\n",
       "      <td>1309.000000</td>\n",
       "      <td>891.000000</td>\n",
       "      <td>1309</td>\n",
       "    </tr>\n",
       "    <tr>\n",
       "      <th>unique</th>\n",
       "      <td>NaN</td>\n",
       "      <td>186</td>\n",
       "      <td>3</td>\n",
       "      <td>NaN</td>\n",
       "      <td>1307</td>\n",
       "      <td>NaN</td>\n",
       "      <td>NaN</td>\n",
       "      <td>NaN</td>\n",
       "      <td>2</td>\n",
       "      <td>NaN</td>\n",
       "      <td>NaN</td>\n",
       "      <td>929</td>\n",
       "    </tr>\n",
       "    <tr>\n",
       "      <th>top</th>\n",
       "      <td>NaN</td>\n",
       "      <td>C23 C25 C27</td>\n",
       "      <td>S</td>\n",
       "      <td>NaN</td>\n",
       "      <td>Connolly, Miss. Kate</td>\n",
       "      <td>NaN</td>\n",
       "      <td>NaN</td>\n",
       "      <td>NaN</td>\n",
       "      <td>male</td>\n",
       "      <td>NaN</td>\n",
       "      <td>NaN</td>\n",
       "      <td>CA. 2343</td>\n",
       "    </tr>\n",
       "    <tr>\n",
       "      <th>freq</th>\n",
       "      <td>NaN</td>\n",
       "      <td>6</td>\n",
       "      <td>914</td>\n",
       "      <td>NaN</td>\n",
       "      <td>2</td>\n",
       "      <td>NaN</td>\n",
       "      <td>NaN</td>\n",
       "      <td>NaN</td>\n",
       "      <td>843</td>\n",
       "      <td>NaN</td>\n",
       "      <td>NaN</td>\n",
       "      <td>11</td>\n",
       "    </tr>\n",
       "    <tr>\n",
       "      <th>mean</th>\n",
       "      <td>29.881138</td>\n",
       "      <td>NaN</td>\n",
       "      <td>NaN</td>\n",
       "      <td>33.295479</td>\n",
       "      <td>NaN</td>\n",
       "      <td>0.385027</td>\n",
       "      <td>655.000000</td>\n",
       "      <td>2.294882</td>\n",
       "      <td>NaN</td>\n",
       "      <td>0.498854</td>\n",
       "      <td>0.383838</td>\n",
       "      <td>NaN</td>\n",
       "    </tr>\n",
       "    <tr>\n",
       "      <th>std</th>\n",
       "      <td>14.413493</td>\n",
       "      <td>NaN</td>\n",
       "      <td>NaN</td>\n",
       "      <td>51.758668</td>\n",
       "      <td>NaN</td>\n",
       "      <td>0.865560</td>\n",
       "      <td>378.020061</td>\n",
       "      <td>0.837836</td>\n",
       "      <td>NaN</td>\n",
       "      <td>1.041658</td>\n",
       "      <td>0.486592</td>\n",
       "      <td>NaN</td>\n",
       "    </tr>\n",
       "    <tr>\n",
       "      <th>min</th>\n",
       "      <td>0.170000</td>\n",
       "      <td>NaN</td>\n",
       "      <td>NaN</td>\n",
       "      <td>0.000000</td>\n",
       "      <td>NaN</td>\n",
       "      <td>0.000000</td>\n",
       "      <td>1.000000</td>\n",
       "      <td>1.000000</td>\n",
       "      <td>NaN</td>\n",
       "      <td>0.000000</td>\n",
       "      <td>0.000000</td>\n",
       "      <td>NaN</td>\n",
       "    </tr>\n",
       "    <tr>\n",
       "      <th>25%</th>\n",
       "      <td>21.000000</td>\n",
       "      <td>NaN</td>\n",
       "      <td>NaN</td>\n",
       "      <td>7.895800</td>\n",
       "      <td>NaN</td>\n",
       "      <td>0.000000</td>\n",
       "      <td>328.000000</td>\n",
       "      <td>2.000000</td>\n",
       "      <td>NaN</td>\n",
       "      <td>0.000000</td>\n",
       "      <td>0.000000</td>\n",
       "      <td>NaN</td>\n",
       "    </tr>\n",
       "    <tr>\n",
       "      <th>50%</th>\n",
       "      <td>28.000000</td>\n",
       "      <td>NaN</td>\n",
       "      <td>NaN</td>\n",
       "      <td>14.454200</td>\n",
       "      <td>NaN</td>\n",
       "      <td>0.000000</td>\n",
       "      <td>655.000000</td>\n",
       "      <td>3.000000</td>\n",
       "      <td>NaN</td>\n",
       "      <td>0.000000</td>\n",
       "      <td>0.000000</td>\n",
       "      <td>NaN</td>\n",
       "    </tr>\n",
       "    <tr>\n",
       "      <th>75%</th>\n",
       "      <td>39.000000</td>\n",
       "      <td>NaN</td>\n",
       "      <td>NaN</td>\n",
       "      <td>31.275000</td>\n",
       "      <td>NaN</td>\n",
       "      <td>0.000000</td>\n",
       "      <td>982.000000</td>\n",
       "      <td>3.000000</td>\n",
       "      <td>NaN</td>\n",
       "      <td>1.000000</td>\n",
       "      <td>1.000000</td>\n",
       "      <td>NaN</td>\n",
       "    </tr>\n",
       "    <tr>\n",
       "      <th>max</th>\n",
       "      <td>80.000000</td>\n",
       "      <td>NaN</td>\n",
       "      <td>NaN</td>\n",
       "      <td>512.329200</td>\n",
       "      <td>NaN</td>\n",
       "      <td>9.000000</td>\n",
       "      <td>1309.000000</td>\n",
       "      <td>3.000000</td>\n",
       "      <td>NaN</td>\n",
       "      <td>8.000000</td>\n",
       "      <td>1.000000</td>\n",
       "      <td>NaN</td>\n",
       "    </tr>\n",
       "  </tbody>\n",
       "</table>\n",
       "</div>"
      ],
      "text/plain": [
       "                Age        Cabin Embarked         Fare                  Name  \\\n",
       "count   1046.000000          295     1307  1308.000000                  1309   \n",
       "unique          NaN          186        3          NaN                  1307   \n",
       "top             NaN  C23 C25 C27        S          NaN  Connolly, Miss. Kate   \n",
       "freq            NaN            6      914          NaN                     2   \n",
       "mean      29.881138          NaN      NaN    33.295479                   NaN   \n",
       "std       14.413493          NaN      NaN    51.758668                   NaN   \n",
       "min        0.170000          NaN      NaN     0.000000                   NaN   \n",
       "25%       21.000000          NaN      NaN     7.895800                   NaN   \n",
       "50%       28.000000          NaN      NaN    14.454200                   NaN   \n",
       "75%       39.000000          NaN      NaN    31.275000                   NaN   \n",
       "max       80.000000          NaN      NaN   512.329200                   NaN   \n",
       "\n",
       "              Parch  PassengerId       Pclass   Sex        SibSp    Survived  \\\n",
       "count   1309.000000  1309.000000  1309.000000  1309  1309.000000  891.000000   \n",
       "unique          NaN          NaN          NaN     2          NaN         NaN   \n",
       "top             NaN          NaN          NaN  male          NaN         NaN   \n",
       "freq            NaN          NaN          NaN   843          NaN         NaN   \n",
       "mean       0.385027   655.000000     2.294882   NaN     0.498854    0.383838   \n",
       "std        0.865560   378.020061     0.837836   NaN     1.041658    0.486592   \n",
       "min        0.000000     1.000000     1.000000   NaN     0.000000    0.000000   \n",
       "25%        0.000000   328.000000     2.000000   NaN     0.000000    0.000000   \n",
       "50%        0.000000   655.000000     3.000000   NaN     0.000000    0.000000   \n",
       "75%        0.000000   982.000000     3.000000   NaN     1.000000    1.000000   \n",
       "max        9.000000  1309.000000     3.000000   NaN     8.000000    1.000000   \n",
       "\n",
       "          Ticket  \n",
       "count       1309  \n",
       "unique       929  \n",
       "top     CA. 2343  \n",
       "freq          11  \n",
       "mean         NaN  \n",
       "std          NaN  \n",
       "min          NaN  \n",
       "25%          NaN  \n",
       "50%          NaN  \n",
       "75%          NaN  \n",
       "max          NaN  "
      ]
     },
     "execution_count": 7,
     "metadata": {},
     "output_type": "execute_result"
    }
   ],
   "source": [
    "df_combined.describe(include = \"all\")"
   ]
  },
  {
   "cell_type": "code",
   "execution_count": 8,
   "id": "7bf3a4fc",
   "metadata": {
    "scrolled": false
   },
   "outputs": [
    {
     "data": {
      "text/html": [
       "<div>\n",
       "<style scoped>\n",
       "    .dataframe tbody tr th:only-of-type {\n",
       "        vertical-align: middle;\n",
       "    }\n",
       "\n",
       "    .dataframe tbody tr th {\n",
       "        vertical-align: top;\n",
       "    }\n",
       "\n",
       "    .dataframe thead th {\n",
       "        text-align: right;\n",
       "    }\n",
       "</style>\n",
       "<table border=\"1\" class=\"dataframe\">\n",
       "  <thead>\n",
       "    <tr style=\"text-align: right;\">\n",
       "      <th></th>\n",
       "      <th>Age</th>\n",
       "      <th>Cabin</th>\n",
       "      <th>Embarked</th>\n",
       "      <th>Fare</th>\n",
       "      <th>Name</th>\n",
       "      <th>Parch</th>\n",
       "      <th>PassengerId</th>\n",
       "      <th>Pclass</th>\n",
       "      <th>Sex</th>\n",
       "      <th>SibSp</th>\n",
       "      <th>Survived</th>\n",
       "      <th>Ticket</th>\n",
       "    </tr>\n",
       "  </thead>\n",
       "  <tbody>\n",
       "    <tr>\n",
       "      <th>289</th>\n",
       "      <td>22.0</td>\n",
       "      <td>NaN</td>\n",
       "      <td>Q</td>\n",
       "      <td>7.7500</td>\n",
       "      <td>Connolly, Miss. Kate</td>\n",
       "      <td>0</td>\n",
       "      <td>290</td>\n",
       "      <td>3</td>\n",
       "      <td>female</td>\n",
       "      <td>0</td>\n",
       "      <td>1.0</td>\n",
       "      <td>370373</td>\n",
       "    </tr>\n",
       "    <tr>\n",
       "      <th>696</th>\n",
       "      <td>44.0</td>\n",
       "      <td>NaN</td>\n",
       "      <td>S</td>\n",
       "      <td>8.0500</td>\n",
       "      <td>Kelly, Mr. James</td>\n",
       "      <td>0</td>\n",
       "      <td>697</td>\n",
       "      <td>3</td>\n",
       "      <td>male</td>\n",
       "      <td>0</td>\n",
       "      <td>0.0</td>\n",
       "      <td>363592</td>\n",
       "    </tr>\n",
       "    <tr>\n",
       "      <th>891</th>\n",
       "      <td>34.5</td>\n",
       "      <td>NaN</td>\n",
       "      <td>Q</td>\n",
       "      <td>7.8292</td>\n",
       "      <td>Kelly, Mr. James</td>\n",
       "      <td>0</td>\n",
       "      <td>892</td>\n",
       "      <td>3</td>\n",
       "      <td>male</td>\n",
       "      <td>0</td>\n",
       "      <td>NaN</td>\n",
       "      <td>330911</td>\n",
       "    </tr>\n",
       "    <tr>\n",
       "      <th>897</th>\n",
       "      <td>30.0</td>\n",
       "      <td>NaN</td>\n",
       "      <td>Q</td>\n",
       "      <td>7.6292</td>\n",
       "      <td>Connolly, Miss. Kate</td>\n",
       "      <td>0</td>\n",
       "      <td>898</td>\n",
       "      <td>3</td>\n",
       "      <td>female</td>\n",
       "      <td>0</td>\n",
       "      <td>NaN</td>\n",
       "      <td>330972</td>\n",
       "    </tr>\n",
       "  </tbody>\n",
       "</table>\n",
       "</div>"
      ],
      "text/plain": [
       "      Age Cabin Embarked    Fare                  Name  Parch  PassengerId  \\\n",
       "289  22.0   NaN        Q  7.7500  Connolly, Miss. Kate      0          290   \n",
       "696  44.0   NaN        S  8.0500      Kelly, Mr. James      0          697   \n",
       "891  34.5   NaN        Q  7.8292      Kelly, Mr. James      0          892   \n",
       "897  30.0   NaN        Q  7.6292  Connolly, Miss. Kate      0          898   \n",
       "\n",
       "     Pclass     Sex  SibSp  Survived  Ticket  \n",
       "289       3  female      0       1.0  370373  \n",
       "696       3    male      0       0.0  363592  \n",
       "891       3    male      0       NaN  330911  \n",
       "897       3  female      0       NaN  330972  "
      ]
     },
     "execution_count": 8,
     "metadata": {},
     "output_type": "execute_result"
    }
   ],
   "source": [
    "# There are 2-2 people with the same name and multiple individuals with the same ticket number\n",
    "# df_combined.duplicated().value_counts()\n",
    "df_combined[df_combined.duplicated(subset = \"Name\", keep = False) == True]\n",
    "\n",
    "# All 4 individuals have different Ticket numbers, Ages etc., so these values are not duplicated. "
   ]
  },
  {
   "cell_type": "code",
   "execution_count": 9,
   "id": "47a45cd8",
   "metadata": {},
   "outputs": [
    {
     "data": {
      "text/plain": [
       "Ticket\n",
       "110152         3\n",
       "110413         3\n",
       "110465         2\n",
       "110469         1\n",
       "110489         1\n",
       "              ..\n",
       "W./C. 6608     5\n",
       "W./C. 6609     1\n",
       "W.E.P. 5734    2\n",
       "W/C 14208      1\n",
       "WE/P 5735      2\n",
       "Name: PassengerId, Length: 929, dtype: int64"
      ]
     },
     "execution_count": 9,
     "metadata": {},
     "output_type": "execute_result"
    }
   ],
   "source": [
    "df_combined.duplicated(subset = \"Ticket\", keep = False).value_counts()\n",
    "df_combined.groupby(\"Ticket\").PassengerId.count()"
   ]
  },
  {
   "cell_type": "code",
   "execution_count": 10,
   "id": "1a25545a",
   "metadata": {
    "scrolled": true
   },
   "outputs": [
    {
     "data": {
      "image/png": "[encoded data removed]",
      "text/plain": [
       "<Figure size 720x360 with 2 Axes>"
      ]
     },
     "metadata": {
      "needs_background": "light"
     },
     "output_type": "display_data"
    }
   ],
   "source": [
    "# Correlation Matrix for numeric variables pre-feature engineering\n",
    "fig, ax = plt.subplots(figsize = (10,5))\n",
    "correlation_matrix = sns.heatmap(df_training.corr(),\n",
    "                                annot = True,\n",
    "                                ax = ax,\n",
    "                                cmap = \"YlGnBu\")  "
   ]
  },
  {
   "cell_type": "markdown",
   "id": "cf0a1bdc",
   "metadata": {},
   "source": [
    "There are two `relatively` strong correlation points when it comes to Survival:\n",
    " * Fare --> positive correlation: The more ticket cost the more likely that the person survived the Titanic\n",
    " * PClass --> negative correlation: With lower ticket classes (i.e. increase in PClass number) the chances of survival decreases. \n",
    "    \n",
    "Additional notes: \n",
    " * Fare correlates with Pclass (potential multicollinearity) as higher ticket classes cost more\n",
    " * To some level Fare also correlates with SibSp and Parch, which could be because family members use the same ticket. Conclusively a derived attribute of fare per person may be valuable addition to the feature variables\n",
    " * Age in its current format (prior to imputation) doesn't have a signification correlation with Survival. Nontheless, based on the matrix it has connection with PClass. (Older passangers were more likely to have higher class tickets) Thus a variable that combines PClass and Age could be a valuable asset. "
   ]
  },
  {
   "cell_type": "code",
   "execution_count": 11,
   "id": "8aa3c2b8",
   "metadata": {},
   "outputs": [
    {
     "data": {
      "text/plain": [
       "Sex\n",
       "female    314\n",
       "male      577\n",
       "Name: Survived, dtype: int64"
      ]
     },
     "execution_count": 11,
     "metadata": {},
     "output_type": "execute_result"
    }
   ],
   "source": [
    "df_training.groupby(by = \"Sex\").Survived.count()"
   ]
  },
  {
   "cell_type": "code",
   "execution_count": 12,
   "id": "0b168745",
   "metadata": {
    "scrolled": true
   },
   "outputs": [
    {
     "data": {
      "text/plain": [
       "<AxesSubplot:title={'center':'Embarked and Survival'}, xlabel='Embarked', ylabel='Number of passengers'>"
      ]
     },
     "execution_count": 12,
     "metadata": {},
     "output_type": "execute_result"
    },
    {
     "data": {
      "image/png": "[encoded data removed]",
      "text/plain": [
       "<Figure size 864x288 with 2 Axes>"
      ]
     },
     "metadata": {
      "needs_background": "light"
     },
     "output_type": "display_data"
    }
   ],
   "source": [
    "# Visualizing object variables vs. Survival pre-feature engineering\n",
    "\n",
    "sex_survived_crosstab = pd.crosstab(df_training[\"Sex\"],\n",
    "                                    df_training[\"Survived\"])\n",
    "\n",
    "embarked_survived_crosstab = pd.crosstab(df_training[\"Embarked\"],\n",
    "                                         df_training[\"Survived\"])\n",
    "\n",
    "sex_survived_crosstab\n",
    "fig, ax = plt.subplots(nrows = 1,\n",
    "                       ncols = 2,\n",
    "                       figsize = (12,4))\n",
    "\n",
    "sex_survived_crosstab.plot(kind = \"bar\",\n",
    "                           xlabel = \"Sex\",\n",
    "                           ylabel = \"Number of passengers\",\n",
    "                           title = \"Sex and Survival\",\n",
    "                           ax = ax[0])\n",
    "\n",
    "embarked_survived_crosstab.plot(kind = \"bar\",\n",
    "                           xlabel = \"Embarked\",\n",
    "                           ylabel = \"Number of passengers\",\n",
    "                           title = \"Embarked and Survival\",\n",
    "                           ax = ax[1])"
   ]
  },
  {
   "cell_type": "markdown",
   "id": "2da09093",
   "metadata": {},
   "source": [
    "Based on the visualizations above both sex and embarked values influenced whether a passenger survived the incident or not:\n",
    "It seems females were more likely to survive and those who embarked in France had a higher possibility of survival as well. Although it's worth to note that there are imbalances in sample sizes as most people embarked at Southhampton and there were more male passengers than female"
   ]
  },
  {
   "cell_type": "code",
   "execution_count": 13,
   "id": "5ba6c085",
   "metadata": {},
   "outputs": [
    {
     "data": {
      "text/plain": [
       "male      577\n",
       "female    314\n",
       "Name: Sex, dtype: int64"
      ]
     },
     "execution_count": 13,
     "metadata": {},
     "output_type": "execute_result"
    }
   ],
   "source": [
    "df_training[\"Sex\"].value_counts()"
   ]
  },
  {
   "cell_type": "code",
   "execution_count": 14,
   "id": "7f173a19",
   "metadata": {},
   "outputs": [
    {
     "data": {
      "text/plain": [
       "S    644\n",
       "C    168\n",
       "Q     77\n",
       "Name: Embarked, dtype: int64"
      ]
     },
     "execution_count": 14,
     "metadata": {},
     "output_type": "execute_result"
    }
   ],
   "source": [
    "df_training[\"Embarked\"].value_counts()"
   ]
  },
  {
   "cell_type": "markdown",
   "id": "e168dbb3",
   "metadata": {},
   "source": [
    "#### Feature engineering\n",
    "\n",
    "Certain attributes like Cabin and Name should not be encoded in the model, but some valuable info can be derived from them: \n",
    "\n",
    "* First element (letter) of Cabin indicating the Cabin positions \n",
    "* Titles from name \n"
   ]
  },
  {
   "cell_type": "code",
   "execution_count": 15,
   "id": "4084b8a3",
   "metadata": {
    "scrolled": true
   },
   "outputs": [
    {
     "data": {
      "text/html": [
       "<div>\n",
       "<style scoped>\n",
       "    .dataframe tbody tr th:only-of-type {\n",
       "        vertical-align: middle;\n",
       "    }\n",
       "\n",
       "    .dataframe tbody tr th {\n",
       "        vertical-align: top;\n",
       "    }\n",
       "\n",
       "    .dataframe thead th {\n",
       "        text-align: right;\n",
       "    }\n",
       "</style>\n",
       "<table border=\"1\" class=\"dataframe\">\n",
       "  <thead>\n",
       "    <tr style=\"text-align: right;\">\n",
       "      <th>Title</th>\n",
       "      <th>Capt</th>\n",
       "      <th>Col</th>\n",
       "      <th>Don</th>\n",
       "      <th>Dr</th>\n",
       "      <th>Jonkheer</th>\n",
       "      <th>Lady</th>\n",
       "      <th>Major</th>\n",
       "      <th>Master</th>\n",
       "      <th>Miss</th>\n",
       "      <th>Mlle</th>\n",
       "      <th>Mme</th>\n",
       "      <th>Mr</th>\n",
       "      <th>Mrs</th>\n",
       "      <th>Ms</th>\n",
       "      <th>Rev</th>\n",
       "      <th>Sir</th>\n",
       "      <th>the Countess</th>\n",
       "    </tr>\n",
       "    <tr>\n",
       "      <th>Survived</th>\n",
       "      <th></th>\n",
       "      <th></th>\n",
       "      <th></th>\n",
       "      <th></th>\n",
       "      <th></th>\n",
       "      <th></th>\n",
       "      <th></th>\n",
       "      <th></th>\n",
       "      <th></th>\n",
       "      <th></th>\n",
       "      <th></th>\n",
       "      <th></th>\n",
       "      <th></th>\n",
       "      <th></th>\n",
       "      <th></th>\n",
       "      <th></th>\n",
       "      <th></th>\n",
       "    </tr>\n",
       "  </thead>\n",
       "  <tbody>\n",
       "    <tr>\n",
       "      <th>0</th>\n",
       "      <td>1</td>\n",
       "      <td>1</td>\n",
       "      <td>1</td>\n",
       "      <td>4</td>\n",
       "      <td>1</td>\n",
       "      <td>0</td>\n",
       "      <td>1</td>\n",
       "      <td>17</td>\n",
       "      <td>55</td>\n",
       "      <td>0</td>\n",
       "      <td>0</td>\n",
       "      <td>436</td>\n",
       "      <td>26</td>\n",
       "      <td>0</td>\n",
       "      <td>6</td>\n",
       "      <td>0</td>\n",
       "      <td>0</td>\n",
       "    </tr>\n",
       "    <tr>\n",
       "      <th>1</th>\n",
       "      <td>0</td>\n",
       "      <td>1</td>\n",
       "      <td>0</td>\n",
       "      <td>3</td>\n",
       "      <td>0</td>\n",
       "      <td>1</td>\n",
       "      <td>1</td>\n",
       "      <td>23</td>\n",
       "      <td>127</td>\n",
       "      <td>2</td>\n",
       "      <td>1</td>\n",
       "      <td>81</td>\n",
       "      <td>99</td>\n",
       "      <td>1</td>\n",
       "      <td>0</td>\n",
       "      <td>1</td>\n",
       "      <td>1</td>\n",
       "    </tr>\n",
       "  </tbody>\n",
       "</table>\n",
       "</div>"
      ],
      "text/plain": [
       "Title      Capt   Col   Don   Dr   Jonkheer   Lady   Major   Master   Miss  \\\n",
       "Survived                                                                     \n",
       "0             1     1     1    4          1      0       1       17     55   \n",
       "1             0     1     0    3          0      1       1       23    127   \n",
       "\n",
       "Title      Mlle   Mme   Mr   Mrs   Ms   Rev   Sir   the Countess  \n",
       "Survived                                                          \n",
       "0             0     0  436    26    0     6     0              0  \n",
       "1             2     1   81    99    1     0     1              1  "
      ]
     },
     "execution_count": 15,
     "metadata": {},
     "output_type": "execute_result"
    }
   ],
   "source": [
    "# Derive titles from names\n",
    "\n",
    "def title_split(df):\n",
    "    first_split = []\n",
    "    titles = []\n",
    "    for i in df[\"Name\"]:\n",
    "        x,y = i.split(\".\", maxsplit = 1)\n",
    "        first_split.append(x)\n",
    "    for i in first_split:\n",
    "        last_name, title = i.split(\",\", maxsplit = 1)\n",
    "        titles.append(title)\n",
    "    return titles\n",
    "\n",
    "df_training[\"Title\"] = pd.Series(title_split(df_training))\n",
    "np.unique(df_training[\"Title\"])\n",
    "pd.crosstab(df_training[\"Pclass\"],\n",
    "            df_training[\"Title\"])\n",
    "pd.crosstab(df_training[\"Survived\"],\n",
    "            df_training[\"Title\"])"
   ]
  },
  {
   "cell_type": "code",
   "execution_count": 16,
   "id": "c91395f6",
   "metadata": {},
   "outputs": [
    {
     "data": {
      "text/html": [
       "<div>\n",
       "<style scoped>\n",
       "    .dataframe tbody tr th:only-of-type {\n",
       "        vertical-align: middle;\n",
       "    }\n",
       "\n",
       "    .dataframe tbody tr th {\n",
       "        vertical-align: top;\n",
       "    }\n",
       "\n",
       "    .dataframe thead th {\n",
       "        text-align: right;\n",
       "    }\n",
       "</style>\n",
       "<table border=\"1\" class=\"dataframe\">\n",
       "  <thead>\n",
       "    <tr style=\"text-align: right;\">\n",
       "      <th>Title</th>\n",
       "      <th>Col</th>\n",
       "      <th>Dona</th>\n",
       "      <th>Dr</th>\n",
       "      <th>Master</th>\n",
       "      <th>Miss</th>\n",
       "      <th>Mr</th>\n",
       "      <th>Mrs</th>\n",
       "      <th>Ms</th>\n",
       "      <th>Rev</th>\n",
       "    </tr>\n",
       "    <tr>\n",
       "      <th>Sex</th>\n",
       "      <th></th>\n",
       "      <th></th>\n",
       "      <th></th>\n",
       "      <th></th>\n",
       "      <th></th>\n",
       "      <th></th>\n",
       "      <th></th>\n",
       "      <th></th>\n",
       "      <th></th>\n",
       "    </tr>\n",
       "  </thead>\n",
       "  <tbody>\n",
       "    <tr>\n",
       "      <th>female</th>\n",
       "      <td>0</td>\n",
       "      <td>1</td>\n",
       "      <td>0</td>\n",
       "      <td>0</td>\n",
       "      <td>78</td>\n",
       "      <td>0</td>\n",
       "      <td>72</td>\n",
       "      <td>1</td>\n",
       "      <td>0</td>\n",
       "    </tr>\n",
       "    <tr>\n",
       "      <th>male</th>\n",
       "      <td>2</td>\n",
       "      <td>0</td>\n",
       "      <td>1</td>\n",
       "      <td>21</td>\n",
       "      <td>0</td>\n",
       "      <td>240</td>\n",
       "      <td>0</td>\n",
       "      <td>0</td>\n",
       "      <td>2</td>\n",
       "    </tr>\n",
       "  </tbody>\n",
       "</table>\n",
       "</div>"
      ],
      "text/plain": [
       "Title    Col   Dona   Dr   Master   Miss   Mr   Mrs   Ms   Rev\n",
       "Sex                                                           \n",
       "female     0      1    0        0     78    0    72    1     0\n",
       "male       2      0    1       21      0  240     0    0     2"
      ]
     },
     "execution_count": 16,
     "metadata": {},
     "output_type": "execute_result"
    }
   ],
   "source": [
    "df_test[\"Title\"] = pd.Series(title_split(df_test))\n",
    "pd.crosstab(df_test[\"Sex\"],\n",
    "            df_test[\"Title\"])"
   ]
  },
  {
   "cell_type": "code",
   "execution_count": 17,
   "id": "b573ab53",
   "metadata": {
    "scrolled": true
   },
   "outputs": [],
   "source": [
    "# Categorize titles into Elite, Mr, Miss, Mrs, Ms, Master\n",
    "\n",
    "def title_cat(df, inplace = True):\n",
    "    df[\"Title\"] = df[\"Title\"].replace(\" \", \"\", regex = True)\n",
    "    df[\"Title\"] = df[\"Title\"].replace([\"Capt\", \"Col\", \"Dr\", \"Jonkheer\", \"Major\", \"Sir\", \"theCountess\", \"Rev\", \"Lady\"], \"Elite\")\n",
    "    df[\"Title\"] = df[\"Title\"].replace(\"Mlle\", \"Miss\")\n",
    "    df[\"Title\"] = df[\"Title\"].replace([\"Mme\", \"Dona\"], \"Mrs\")\n",
    "    df[\"Title\"] = df[\"Title\"].replace(\"Don\", \"Mr\")\n",
    "title_cat(df_training)\n",
    "df_training\n",
    "title_survived = pd.crosstab(df_training[\"Title\"],\n",
    "            df_training[\"Survived\"])\n"
   ]
  },
  {
   "cell_type": "code",
   "execution_count": 18,
   "id": "c3500ace",
   "metadata": {
    "scrolled": true
   },
   "outputs": [
    {
     "data": {
      "text/plain": [
       "<AxesSubplot:xlabel='Title'>"
      ]
     },
     "execution_count": 18,
     "metadata": {},
     "output_type": "execute_result"
    },
    {
     "data": {
      "image/png": "[encoded data removed]",
      "text/plain": [
       "<Figure size 432x288 with 1 Axes>"
      ]
     },
     "metadata": {
      "needs_background": "light"
     },
     "output_type": "display_data"
    }
   ],
   "source": [
    "# Based on the crosstab above, although the sample categories are imbalance it doesn't seem as if the elite had a higher chance of survival, so the title attribute may not be a significant attribute to our model\n",
    "\n",
    "title_survived.plot(kind = \"bar\")"
   ]
  },
  {
   "cell_type": "code",
   "execution_count": 19,
   "id": "b8d97790",
   "metadata": {
    "scrolled": true
   },
   "outputs": [
    {
     "data": {
      "text/plain": [
       "Unknown    687\n",
       "C           59\n",
       "B           47\n",
       "E           33\n",
       "D           33\n",
       "A           16\n",
       "F           12\n",
       "G            4\n",
       "Name: Deck, dtype: int64"
      ]
     },
     "execution_count": 19,
     "metadata": {},
     "output_type": "execute_result"
    }
   ],
   "source": [
    "# Converting Cabins to Decks : as the distance to lifeboats were dependent of the cabin's location. Going from A - G means going from top deck to bottom deck. Bottom decks were the farthest away from lifeboats. \n",
    "\n",
    "df_training[df_training[\"Cabin\"].notna()].Cabin.unique()\n",
    "\n",
    "df_training[df_training[\"Cabin\"] == \"T\"]\n",
    "\n",
    "# Converting Cabins to Decks\n",
    "wholestrings = []\n",
    "\n",
    "deck_list = [\"A\", \"B\", \"C\", \"D\", \"E\", \"F\", \"G\", \"Unknown\"]\n",
    "df_training[\"Cabin\"] = df_training[\"Cabin\"].fillna(\"Unknown\")\n",
    "def find_deck(wholestring, substring,df):\n",
    "    wholestrings.append(wholestring)\n",
    "    for i in substring:\n",
    "        if i in wholestring:\n",
    "            return i\n",
    "        if wholestring == \"T\":\n",
    "            return \"A\"\n",
    "        \n",
    "df_training[\"Deck\"] = df_training[\"Cabin\"].map(lambda x : find_deck(x,deck_list, df_training))\n",
    "df_training[\"Deck\"].value_counts()"
   ]
  },
  {
   "cell_type": "code",
   "execution_count": 20,
   "id": "a871d0f1",
   "metadata": {
    "scrolled": true
   },
   "outputs": [
    {
     "data": {
      "text/plain": [
       "<AxesSubplot:xlabel='Deck'>"
      ]
     },
     "execution_count": 20,
     "metadata": {},
     "output_type": "execute_result"
    },
    {
     "data": {
      "image/png": "[encoded data removed]",
      "text/plain": [
       "<Figure size 432x288 with 1 Axes>"
      ]
     },
     "metadata": {
      "needs_background": "light"
     },
     "output_type": "display_data"
    }
   ],
   "source": [
    "deck_survival = pd.crosstab(df_training[\"Deck\"],\n",
    "                            df_training[\"Survived\"])\n",
    "\n",
    "deck_survival.plot(kind = \"bar\")"
   ]
  },
  {
   "cell_type": "code",
   "execution_count": 21,
   "id": "884eec8a",
   "metadata": {},
   "outputs": [],
   "source": [
    "# def simplify_deck(df, inplace = True):\n",
    "#     for idx, deck in enumerate(df[\"Deck\"]):\n",
    "#         if deck in ['A', 'B', 'C', 'D', 'E', 'F', 'G']:\n",
    "#             df[\"Deck\"][idx] = \"yes\"\n",
    "#         else:\n",
    "#             df[\"Deck\"][idx] = \"no\"\n"
   ]
  },
  {
   "cell_type": "markdown",
   "id": "cff572cc",
   "metadata": {},
   "source": [
    "#### Deriving other attributes from existing variables"
   ]
  },
  {
   "cell_type": "code",
   "execution_count": 22,
   "id": "1e188aca",
   "metadata": {},
   "outputs": [],
   "source": [
    "# Number of family members\n",
    "df_training[\"Family_Members\"] = df_training.SibSp + df_training.Parch\n",
    "df_training[\"Family_Size\"] = df_training.SibSp + df_training.Parch + 1"
   ]
  },
  {
   "cell_type": "code",
   "execution_count": 23,
   "id": "2ea0a066",
   "metadata": {},
   "outputs": [
    {
     "data": {
      "text/html": [
       "<div>\n",
       "<style scoped>\n",
       "    .dataframe tbody tr th:only-of-type {\n",
       "        vertical-align: middle;\n",
       "    }\n",
       "\n",
       "    .dataframe tbody tr th {\n",
       "        vertical-align: top;\n",
       "    }\n",
       "\n",
       "    .dataframe thead th {\n",
       "        text-align: right;\n",
       "    }\n",
       "</style>\n",
       "<table border=\"1\" class=\"dataframe\">\n",
       "  <thead>\n",
       "    <tr style=\"text-align: right;\">\n",
       "      <th></th>\n",
       "      <th>PassengerId</th>\n",
       "      <th>Survived</th>\n",
       "      <th>Pclass</th>\n",
       "      <th>Name</th>\n",
       "      <th>Sex</th>\n",
       "      <th>Age</th>\n",
       "      <th>SibSp</th>\n",
       "      <th>Parch</th>\n",
       "      <th>Ticket</th>\n",
       "      <th>Fare</th>\n",
       "      <th>Cabin</th>\n",
       "      <th>Embarked</th>\n",
       "      <th>Title</th>\n",
       "      <th>Deck</th>\n",
       "      <th>Family_Members</th>\n",
       "      <th>Family_Size</th>\n",
       "    </tr>\n",
       "  </thead>\n",
       "  <tbody>\n",
       "    <tr>\n",
       "      <th>0</th>\n",
       "      <td>1</td>\n",
       "      <td>0</td>\n",
       "      <td>3</td>\n",
       "      <td>Braund, Mr. Owen Harris</td>\n",
       "      <td>male</td>\n",
       "      <td>22.0</td>\n",
       "      <td>1</td>\n",
       "      <td>0</td>\n",
       "      <td>A/5 21171</td>\n",
       "      <td>7.2500</td>\n",
       "      <td>Unknown</td>\n",
       "      <td>S</td>\n",
       "      <td>Mr</td>\n",
       "      <td>Unknown</td>\n",
       "      <td>1</td>\n",
       "      <td>2</td>\n",
       "    </tr>\n",
       "    <tr>\n",
       "      <th>1</th>\n",
       "      <td>2</td>\n",
       "      <td>1</td>\n",
       "      <td>1</td>\n",
       "      <td>Cumings, Mrs. John Bradley (Florence Briggs Th...</td>\n",
       "      <td>female</td>\n",
       "      <td>38.0</td>\n",
       "      <td>1</td>\n",
       "      <td>0</td>\n",
       "      <td>PC 17599</td>\n",
       "      <td>71.2833</td>\n",
       "      <td>C85</td>\n",
       "      <td>C</td>\n",
       "      <td>Mrs</td>\n",
       "      <td>C</td>\n",
       "      <td>1</td>\n",
       "      <td>2</td>\n",
       "    </tr>\n",
       "    <tr>\n",
       "      <th>2</th>\n",
       "      <td>3</td>\n",
       "      <td>1</td>\n",
       "      <td>3</td>\n",
       "      <td>Heikkinen, Miss. Laina</td>\n",
       "      <td>female</td>\n",
       "      <td>26.0</td>\n",
       "      <td>0</td>\n",
       "      <td>0</td>\n",
       "      <td>STON/O2. 3101282</td>\n",
       "      <td>7.9250</td>\n",
       "      <td>Unknown</td>\n",
       "      <td>S</td>\n",
       "      <td>Miss</td>\n",
       "      <td>Unknown</td>\n",
       "      <td>0</td>\n",
       "      <td>1</td>\n",
       "    </tr>\n",
       "    <tr>\n",
       "      <th>3</th>\n",
       "      <td>4</td>\n",
       "      <td>1</td>\n",
       "      <td>1</td>\n",
       "      <td>Futrelle, Mrs. Jacques Heath (Lily May Peel)</td>\n",
       "      <td>female</td>\n",
       "      <td>35.0</td>\n",
       "      <td>1</td>\n",
       "      <td>0</td>\n",
       "      <td>113803</td>\n",
       "      <td>53.1000</td>\n",
       "      <td>C123</td>\n",
       "      <td>S</td>\n",
       "      <td>Mrs</td>\n",
       "      <td>C</td>\n",
       "      <td>1</td>\n",
       "      <td>2</td>\n",
       "    </tr>\n",
       "    <tr>\n",
       "      <th>4</th>\n",
       "      <td>5</td>\n",
       "      <td>0</td>\n",
       "      <td>3</td>\n",
       "      <td>Allen, Mr. William Henry</td>\n",
       "      <td>male</td>\n",
       "      <td>35.0</td>\n",
       "      <td>0</td>\n",
       "      <td>0</td>\n",
       "      <td>373450</td>\n",
       "      <td>8.0500</td>\n",
       "      <td>Unknown</td>\n",
       "      <td>S</td>\n",
       "      <td>Mr</td>\n",
       "      <td>Unknown</td>\n",
       "      <td>0</td>\n",
       "      <td>1</td>\n",
       "    </tr>\n",
       "  </tbody>\n",
       "</table>\n",
       "</div>"
      ],
      "text/plain": [
       "   PassengerId  Survived  Pclass  \\\n",
       "0            1         0       3   \n",
       "1            2         1       1   \n",
       "2            3         1       3   \n",
       "3            4         1       1   \n",
       "4            5         0       3   \n",
       "\n",
       "                                                Name     Sex   Age  SibSp  \\\n",
       "0                            Braund, Mr. Owen Harris    male  22.0      1   \n",
       "1  Cumings, Mrs. John Bradley (Florence Briggs Th...  female  38.0      1   \n",
       "2                             Heikkinen, Miss. Laina  female  26.0      0   \n",
       "3       Futrelle, Mrs. Jacques Heath (Lily May Peel)  female  35.0      1   \n",
       "4                           Allen, Mr. William Henry    male  35.0      0   \n",
       "\n",
       "   Parch            Ticket     Fare    Cabin Embarked Title     Deck  \\\n",
       "0      0         A/5 21171   7.2500  Unknown        S    Mr  Unknown   \n",
       "1      0          PC 17599  71.2833      C85        C   Mrs        C   \n",
       "2      0  STON/O2. 3101282   7.9250  Unknown        S  Miss  Unknown   \n",
       "3      0            113803  53.1000     C123        S   Mrs        C   \n",
       "4      0            373450   8.0500  Unknown        S    Mr  Unknown   \n",
       "\n",
       "   Family_Members  Family_Size  \n",
       "0               1            2  \n",
       "1               1            2  \n",
       "2               0            1  \n",
       "3               1            2  \n",
       "4               0            1  "
      ]
     },
     "execution_count": 23,
     "metadata": {},
     "output_type": "execute_result"
    }
   ],
   "source": [
    "df_training.head()"
   ]
  },
  {
   "cell_type": "code",
   "execution_count": 24,
   "id": "d8b1fec6",
   "metadata": {},
   "outputs": [],
   "source": [
    "# Age and Class\n",
    "\n",
    "# first it'll be necessary to impute missing values in the Age Column (stretegy will be mean) , and with that Embarked (strategy will be \"S\") and Fare(strategy will be mean) will also be subject to imputation\n",
    "# To keep the datarame's structure pd.fillna() is used instead of SimpleImputer()\n",
    "def fill_missing_values(df):\n",
    "    df[\"Age\"].fillna(df[\"Age\"].mean(), inplace = True)\n",
    "    df[\"Fare\"].fillna(df[\"Fare\"].mean(), inplace = True)\n",
    "    df[\"Embarked\"].fillna(\"S\", inplace = True)\n",
    "\n",
    "fill_missing_values(df_training)\n",
    "df_training[\"Age_Class\"] = df_training.Age * df_training.Pclass"
   ]
  },
  {
   "cell_type": "code",
   "execution_count": 25,
   "id": "628be775",
   "metadata": {},
   "outputs": [],
   "source": [
    "# Using Number of family members to establish ticket price per person\n",
    "\n",
    "df_training[\"Fare_per_person\"] = df_training.Fare / (df_training[\"Family_Members\"] + 1)"
   ]
  },
  {
   "cell_type": "code",
   "execution_count": 26,
   "id": "10d87de3",
   "metadata": {
    "scrolled": true
   },
   "outputs": [
    {
     "data": {
      "image/png": "[encoded data removed]",
      "text/plain": [
       "<Figure size 864x504 with 2 Axes>"
      ]
     },
     "metadata": {
      "needs_background": "light"
     },
     "output_type": "display_data"
    }
   ],
   "source": [
    "# Correlation Matrix post feature engineering\n",
    "\n",
    "fig, ax = plt.subplots(figsize = (12,7))\n",
    "correlation_matrix_2 = sns.heatmap(df_training.corr(),\n",
    "                                   cmap = \"YlGnBu\",\n",
    "                                   annot = True,\n",
    "                                   ax = ax)"
   ]
  },
  {
   "cell_type": "markdown",
   "id": "57fe18e5",
   "metadata": {},
   "source": [
    "### Phase 2 : Preprocessing "
   ]
  },
  {
   "cell_type": "code",
   "execution_count": 27,
   "id": "cd6fc942",
   "metadata": {
    "scrolled": true
   },
   "outputs": [
    {
     "data": {
      "text/html": [
       "<div>\n",
       "<style scoped>\n",
       "    .dataframe tbody tr th:only-of-type {\n",
       "        vertical-align: middle;\n",
       "    }\n",
       "\n",
       "    .dataframe tbody tr th {\n",
       "        vertical-align: top;\n",
       "    }\n",
       "\n",
       "    .dataframe thead th {\n",
       "        text-align: right;\n",
       "    }\n",
       "</style>\n",
       "<table border=\"1\" class=\"dataframe\">\n",
       "  <thead>\n",
       "    <tr style=\"text-align: right;\">\n",
       "      <th></th>\n",
       "      <th>PassengerId</th>\n",
       "      <th>Survived</th>\n",
       "      <th>Pclass</th>\n",
       "      <th>Name</th>\n",
       "      <th>Sex</th>\n",
       "      <th>Age</th>\n",
       "      <th>SibSp</th>\n",
       "      <th>Parch</th>\n",
       "      <th>Ticket</th>\n",
       "      <th>Fare</th>\n",
       "      <th>Cabin</th>\n",
       "      <th>Embarked</th>\n",
       "      <th>Title</th>\n",
       "      <th>Deck</th>\n",
       "      <th>Family_Members</th>\n",
       "      <th>Family_Size</th>\n",
       "      <th>Age_Class</th>\n",
       "      <th>Fare_per_person</th>\n",
       "    </tr>\n",
       "  </thead>\n",
       "  <tbody>\n",
       "    <tr>\n",
       "      <th>0</th>\n",
       "      <td>1</td>\n",
       "      <td>0</td>\n",
       "      <td>3</td>\n",
       "      <td>Braund, Mr. Owen Harris</td>\n",
       "      <td>0</td>\n",
       "      <td>22.000000</td>\n",
       "      <td>1</td>\n",
       "      <td>0</td>\n",
       "      <td>A/5 21171</td>\n",
       "      <td>7.2500</td>\n",
       "      <td>Unknown</td>\n",
       "      <td>0</td>\n",
       "      <td>3</td>\n",
       "      <td>7</td>\n",
       "      <td>1</td>\n",
       "      <td>2</td>\n",
       "      <td>66.000000</td>\n",
       "      <td>3.62500</td>\n",
       "    </tr>\n",
       "    <tr>\n",
       "      <th>1</th>\n",
       "      <td>2</td>\n",
       "      <td>1</td>\n",
       "      <td>1</td>\n",
       "      <td>Cumings, Mrs. John Bradley (Florence Briggs Th...</td>\n",
       "      <td>1</td>\n",
       "      <td>38.000000</td>\n",
       "      <td>1</td>\n",
       "      <td>0</td>\n",
       "      <td>PC 17599</td>\n",
       "      <td>71.2833</td>\n",
       "      <td>C85</td>\n",
       "      <td>2</td>\n",
       "      <td>4</td>\n",
       "      <td>2</td>\n",
       "      <td>1</td>\n",
       "      <td>2</td>\n",
       "      <td>38.000000</td>\n",
       "      <td>35.64165</td>\n",
       "    </tr>\n",
       "    <tr>\n",
       "      <th>2</th>\n",
       "      <td>3</td>\n",
       "      <td>1</td>\n",
       "      <td>3</td>\n",
       "      <td>Heikkinen, Miss. Laina</td>\n",
       "      <td>1</td>\n",
       "      <td>26.000000</td>\n",
       "      <td>0</td>\n",
       "      <td>0</td>\n",
       "      <td>STON/O2. 3101282</td>\n",
       "      <td>7.9250</td>\n",
       "      <td>Unknown</td>\n",
       "      <td>0</td>\n",
       "      <td>2</td>\n",
       "      <td>7</td>\n",
       "      <td>0</td>\n",
       "      <td>1</td>\n",
       "      <td>78.000000</td>\n",
       "      <td>7.92500</td>\n",
       "    </tr>\n",
       "    <tr>\n",
       "      <th>3</th>\n",
       "      <td>4</td>\n",
       "      <td>1</td>\n",
       "      <td>1</td>\n",
       "      <td>Futrelle, Mrs. Jacques Heath (Lily May Peel)</td>\n",
       "      <td>1</td>\n",
       "      <td>35.000000</td>\n",
       "      <td>1</td>\n",
       "      <td>0</td>\n",
       "      <td>113803</td>\n",
       "      <td>53.1000</td>\n",
       "      <td>C123</td>\n",
       "      <td>0</td>\n",
       "      <td>4</td>\n",
       "      <td>2</td>\n",
       "      <td>1</td>\n",
       "      <td>2</td>\n",
       "      <td>35.000000</td>\n",
       "      <td>26.55000</td>\n",
       "    </tr>\n",
       "    <tr>\n",
       "      <th>4</th>\n",
       "      <td>5</td>\n",
       "      <td>0</td>\n",
       "      <td>3</td>\n",
       "      <td>Allen, Mr. William Henry</td>\n",
       "      <td>0</td>\n",
       "      <td>35.000000</td>\n",
       "      <td>0</td>\n",
       "      <td>0</td>\n",
       "      <td>373450</td>\n",
       "      <td>8.0500</td>\n",
       "      <td>Unknown</td>\n",
       "      <td>0</td>\n",
       "      <td>3</td>\n",
       "      <td>7</td>\n",
       "      <td>0</td>\n",
       "      <td>1</td>\n",
       "      <td>105.000000</td>\n",
       "      <td>8.05000</td>\n",
       "    </tr>\n",
       "    <tr>\n",
       "      <th>...</th>\n",
       "      <td>...</td>\n",
       "      <td>...</td>\n",
       "      <td>...</td>\n",
       "      <td>...</td>\n",
       "      <td>...</td>\n",
       "      <td>...</td>\n",
       "      <td>...</td>\n",
       "      <td>...</td>\n",
       "      <td>...</td>\n",
       "      <td>...</td>\n",
       "      <td>...</td>\n",
       "      <td>...</td>\n",
       "      <td>...</td>\n",
       "      <td>...</td>\n",
       "      <td>...</td>\n",
       "      <td>...</td>\n",
       "      <td>...</td>\n",
       "      <td>...</td>\n",
       "    </tr>\n",
       "    <tr>\n",
       "      <th>886</th>\n",
       "      <td>887</td>\n",
       "      <td>0</td>\n",
       "      <td>2</td>\n",
       "      <td>Montvila, Rev. Juozas</td>\n",
       "      <td>0</td>\n",
       "      <td>27.000000</td>\n",
       "      <td>0</td>\n",
       "      <td>0</td>\n",
       "      <td>211536</td>\n",
       "      <td>13.0000</td>\n",
       "      <td>Unknown</td>\n",
       "      <td>0</td>\n",
       "      <td>0</td>\n",
       "      <td>7</td>\n",
       "      <td>0</td>\n",
       "      <td>1</td>\n",
       "      <td>54.000000</td>\n",
       "      <td>13.00000</td>\n",
       "    </tr>\n",
       "    <tr>\n",
       "      <th>887</th>\n",
       "      <td>888</td>\n",
       "      <td>1</td>\n",
       "      <td>1</td>\n",
       "      <td>Graham, Miss. Margaret Edith</td>\n",
       "      <td>1</td>\n",
       "      <td>19.000000</td>\n",
       "      <td>0</td>\n",
       "      <td>0</td>\n",
       "      <td>112053</td>\n",
       "      <td>30.0000</td>\n",
       "      <td>B42</td>\n",
       "      <td>0</td>\n",
       "      <td>2</td>\n",
       "      <td>1</td>\n",
       "      <td>0</td>\n",
       "      <td>1</td>\n",
       "      <td>19.000000</td>\n",
       "      <td>30.00000</td>\n",
       "    </tr>\n",
       "    <tr>\n",
       "      <th>888</th>\n",
       "      <td>889</td>\n",
       "      <td>0</td>\n",
       "      <td>3</td>\n",
       "      <td>Johnston, Miss. Catherine Helen \"Carrie\"</td>\n",
       "      <td>1</td>\n",
       "      <td>29.699118</td>\n",
       "      <td>1</td>\n",
       "      <td>2</td>\n",
       "      <td>W./C. 6607</td>\n",
       "      <td>23.4500</td>\n",
       "      <td>Unknown</td>\n",
       "      <td>0</td>\n",
       "      <td>2</td>\n",
       "      <td>7</td>\n",
       "      <td>3</td>\n",
       "      <td>4</td>\n",
       "      <td>89.097353</td>\n",
       "      <td>5.86250</td>\n",
       "    </tr>\n",
       "    <tr>\n",
       "      <th>889</th>\n",
       "      <td>890</td>\n",
       "      <td>1</td>\n",
       "      <td>1</td>\n",
       "      <td>Behr, Mr. Karl Howell</td>\n",
       "      <td>0</td>\n",
       "      <td>26.000000</td>\n",
       "      <td>0</td>\n",
       "      <td>0</td>\n",
       "      <td>111369</td>\n",
       "      <td>30.0000</td>\n",
       "      <td>C148</td>\n",
       "      <td>2</td>\n",
       "      <td>3</td>\n",
       "      <td>2</td>\n",
       "      <td>0</td>\n",
       "      <td>1</td>\n",
       "      <td>26.000000</td>\n",
       "      <td>30.00000</td>\n",
       "    </tr>\n",
       "    <tr>\n",
       "      <th>890</th>\n",
       "      <td>891</td>\n",
       "      <td>0</td>\n",
       "      <td>3</td>\n",
       "      <td>Dooley, Mr. Patrick</td>\n",
       "      <td>0</td>\n",
       "      <td>32.000000</td>\n",
       "      <td>0</td>\n",
       "      <td>0</td>\n",
       "      <td>370376</td>\n",
       "      <td>7.7500</td>\n",
       "      <td>Unknown</td>\n",
       "      <td>1</td>\n",
       "      <td>3</td>\n",
       "      <td>7</td>\n",
       "      <td>0</td>\n",
       "      <td>1</td>\n",
       "      <td>96.000000</td>\n",
       "      <td>7.75000</td>\n",
       "    </tr>\n",
       "  </tbody>\n",
       "</table>\n",
       "<p>891 rows × 18 columns</p>\n",
       "</div>"
      ],
      "text/plain": [
       "     PassengerId  Survived  Pclass  \\\n",
       "0              1         0       3   \n",
       "1              2         1       1   \n",
       "2              3         1       3   \n",
       "3              4         1       1   \n",
       "4              5         0       3   \n",
       "..           ...       ...     ...   \n",
       "886          887         0       2   \n",
       "887          888         1       1   \n",
       "888          889         0       3   \n",
       "889          890         1       1   \n",
       "890          891         0       3   \n",
       "\n",
       "                                                  Name  Sex        Age  SibSp  \\\n",
       "0                              Braund, Mr. Owen Harris    0  22.000000      1   \n",
       "1    Cumings, Mrs. John Bradley (Florence Briggs Th...    1  38.000000      1   \n",
       "2                               Heikkinen, Miss. Laina    1  26.000000      0   \n",
       "3         Futrelle, Mrs. Jacques Heath (Lily May Peel)    1  35.000000      1   \n",
       "4                             Allen, Mr. William Henry    0  35.000000      0   \n",
       "..                                                 ...  ...        ...    ...   \n",
       "886                              Montvila, Rev. Juozas    0  27.000000      0   \n",
       "887                       Graham, Miss. Margaret Edith    1  19.000000      0   \n",
       "888           Johnston, Miss. Catherine Helen \"Carrie\"    1  29.699118      1   \n",
       "889                              Behr, Mr. Karl Howell    0  26.000000      0   \n",
       "890                                Dooley, Mr. Patrick    0  32.000000      0   \n",
       "\n",
       "     Parch            Ticket     Fare    Cabin  Embarked  Title  Deck  \\\n",
       "0        0         A/5 21171   7.2500  Unknown         0      3     7   \n",
       "1        0          PC 17599  71.2833      C85         2      4     2   \n",
       "2        0  STON/O2. 3101282   7.9250  Unknown         0      2     7   \n",
       "3        0            113803  53.1000     C123         0      4     2   \n",
       "4        0            373450   8.0500  Unknown         0      3     7   \n",
       "..     ...               ...      ...      ...       ...    ...   ...   \n",
       "886      0            211536  13.0000  Unknown         0      0     7   \n",
       "887      0            112053  30.0000      B42         0      2     1   \n",
       "888      2        W./C. 6607  23.4500  Unknown         0      2     7   \n",
       "889      0            111369  30.0000     C148         2      3     2   \n",
       "890      0            370376   7.7500  Unknown         1      3     7   \n",
       "\n",
       "     Family_Members  Family_Size   Age_Class  Fare_per_person  \n",
       "0                 1            2   66.000000          3.62500  \n",
       "1                 1            2   38.000000         35.64165  \n",
       "2                 0            1   78.000000          7.92500  \n",
       "3                 1            2   35.000000         26.55000  \n",
       "4                 0            1  105.000000          8.05000  \n",
       "..              ...          ...         ...              ...  \n",
       "886               0            1   54.000000         13.00000  \n",
       "887               0            1   19.000000         30.00000  \n",
       "888               3            4   89.097353          5.86250  \n",
       "889               0            1   26.000000         30.00000  \n",
       "890               0            1   96.000000          7.75000  \n",
       "\n",
       "[891 rows x 18 columns]"
      ]
     },
     "execution_count": 27,
     "metadata": {},
     "output_type": "execute_result"
    }
   ],
   "source": [
    "# Encoding object variables (Sex, Deck, Title, Embarked)\n",
    "\n",
    "def encoder(df, inplace = True):\n",
    "    df[\"Deck\"] = df[\"Deck\"].replace({\"A\" : 0, \"B\" : 1, \"C\" : 2, \"D\" : 3, \"E\": 4, \"F\": 5, \"G\": 6, \"Unknown\" : 7})\n",
    "    df[\"Sex\"] = df[\"Sex\"].replace({\"male\" :0, \"female\" : 1})\n",
    "    df[\"Title\"] = df[\"Title\"].replace({\"Elite\" : 0, \"Master\" :1, \"Miss\" : 2, \"Mr\" : 3, \"Mrs\": 4, \"Ms\": 5})\n",
    "    df[\"Embarked\"] = df[\"Embarked\"].replace({\"S\" : 0, \"Q\" : 1, \"C\" : 2})\n",
    "encoder(df_training)\n",
    "df_training"
   ]
  },
  {
   "cell_type": "code",
   "execution_count": 28,
   "id": "e2f0c777",
   "metadata": {},
   "outputs": [
    {
     "data": {
      "image/png": "[encoded data removed]",
      "text/plain": [
       "<Figure size 864x504 with 2 Axes>"
      ]
     },
     "metadata": {
      "needs_background": "light"
     },
     "output_type": "display_data"
    }
   ],
   "source": [
    "# Correlation Matrix post encoding\n",
    "\n",
    "fig, ax = plt.subplots(figsize = (12,7))\n",
    "correlation_matrix_2 = sns.heatmap(df_training.corr(),\n",
    "                                   cmap = \"YlGnBu\",\n",
    "                                   annot = True,\n",
    "                                   ax = ax)"
   ]
  },
  {
   "cell_type": "code",
   "execution_count": 29,
   "id": "203749f3",
   "metadata": {},
   "outputs": [],
   "source": [
    "# Normalization of float attributes\n",
    "\n",
    "scaler = MinMaxScaler(feature_range = (0,1))\n",
    "df_training[[\"Fare_per_person\", \"Age_Class\", \"Fare\", \"Age\"]] = scaler.fit_transform(df_training[[\"Fare_per_person\", \"Age_Class\", \"Fare\", \"Age\"]])"
   ]
  },
  {
   "cell_type": "code",
   "execution_count": 30,
   "id": "a843f970",
   "metadata": {
    "scrolled": false
   },
   "outputs": [
    {
     "data": {
      "text/html": [
       "<div>\n",
       "<style scoped>\n",
       "    .dataframe tbody tr th:only-of-type {\n",
       "        vertical-align: middle;\n",
       "    }\n",
       "\n",
       "    .dataframe tbody tr th {\n",
       "        vertical-align: top;\n",
       "    }\n",
       "\n",
       "    .dataframe thead th {\n",
       "        text-align: right;\n",
       "    }\n",
       "</style>\n",
       "<table border=\"1\" class=\"dataframe\">\n",
       "  <thead>\n",
       "    <tr style=\"text-align: right;\">\n",
       "      <th></th>\n",
       "      <th>Pclass</th>\n",
       "      <th>Survived</th>\n",
       "      <th>Sex</th>\n",
       "      <th>Age_Class</th>\n",
       "      <th>SibSp</th>\n",
       "      <th>Parch</th>\n",
       "      <th>Fare</th>\n",
       "      <th>Embarked</th>\n",
       "      <th>Title</th>\n",
       "      <th>Deck</th>\n",
       "    </tr>\n",
       "  </thead>\n",
       "  <tbody>\n",
       "    <tr>\n",
       "      <th>0</th>\n",
       "      <td>3</td>\n",
       "      <td>0</td>\n",
       "      <td>0</td>\n",
       "      <td>0.294373</td>\n",
       "      <td>1</td>\n",
       "      <td>0</td>\n",
       "      <td>0.014151</td>\n",
       "      <td>0</td>\n",
       "      <td>3</td>\n",
       "      <td>7</td>\n",
       "    </tr>\n",
       "    <tr>\n",
       "      <th>1</th>\n",
       "      <td>1</td>\n",
       "      <td>1</td>\n",
       "      <td>1</td>\n",
       "      <td>0.167722</td>\n",
       "      <td>1</td>\n",
       "      <td>0</td>\n",
       "      <td>0.139136</td>\n",
       "      <td>2</td>\n",
       "      <td>4</td>\n",
       "      <td>2</td>\n",
       "    </tr>\n",
       "    <tr>\n",
       "      <th>2</th>\n",
       "      <td>3</td>\n",
       "      <td>1</td>\n",
       "      <td>1</td>\n",
       "      <td>0.348652</td>\n",
       "      <td>0</td>\n",
       "      <td>0</td>\n",
       "      <td>0.015469</td>\n",
       "      <td>0</td>\n",
       "      <td>2</td>\n",
       "      <td>7</td>\n",
       "    </tr>\n",
       "    <tr>\n",
       "      <th>3</th>\n",
       "      <td>1</td>\n",
       "      <td>1</td>\n",
       "      <td>1</td>\n",
       "      <td>0.154152</td>\n",
       "      <td>1</td>\n",
       "      <td>0</td>\n",
       "      <td>0.103644</td>\n",
       "      <td>0</td>\n",
       "      <td>4</td>\n",
       "      <td>2</td>\n",
       "    </tr>\n",
       "    <tr>\n",
       "      <th>4</th>\n",
       "      <td>3</td>\n",
       "      <td>0</td>\n",
       "      <td>0</td>\n",
       "      <td>0.470780</td>\n",
       "      <td>0</td>\n",
       "      <td>0</td>\n",
       "      <td>0.015713</td>\n",
       "      <td>0</td>\n",
       "      <td>3</td>\n",
       "      <td>7</td>\n",
       "    </tr>\n",
       "  </tbody>\n",
       "</table>\n",
       "</div>"
      ],
      "text/plain": [
       "   Pclass  Survived  Sex  Age_Class  SibSp  Parch      Fare  Embarked  Title  \\\n",
       "0       3         0    0   0.294373      1      0  0.014151         0      3   \n",
       "1       1         1    1   0.167722      1      0  0.139136         2      4   \n",
       "2       3         1    1   0.348652      0      0  0.015469         0      2   \n",
       "3       1         1    1   0.154152      1      0  0.103644         0      4   \n",
       "4       3         0    0   0.470780      0      0  0.015713         0      3   \n",
       "\n",
       "   Deck  \n",
       "0     7  \n",
       "1     2  \n",
       "2     7  \n",
       "3     2  \n",
       "4     7  "
      ]
     },
     "execution_count": 30,
     "metadata": {},
     "output_type": "execute_result"
    }
   ],
   "source": [
    "# Creating a dataframe that the model will train on (eliminating certain columns like ticket number, name and cabin, passengerid etc. based on the correlation matrix)\n",
    "\n",
    "df_train = df_training[[\"Pclass\", \"Survived\", \"Sex\", \"Age_Class\", \"SibSp\", \"Parch\", \"Fare\", \"Embarked\", \"Title\", \"Deck\"]]\n",
    "df_train.head()"
   ]
  },
  {
   "cell_type": "code",
   "execution_count": 31,
   "id": "b5f853dd",
   "metadata": {},
   "outputs": [
    {
     "data": {
      "text/html": [
       "<div>\n",
       "<style scoped>\n",
       "    .dataframe tbody tr th:only-of-type {\n",
       "        vertical-align: middle;\n",
       "    }\n",
       "\n",
       "    .dataframe tbody tr th {\n",
       "        vertical-align: top;\n",
       "    }\n",
       "\n",
       "    .dataframe thead th {\n",
       "        text-align: right;\n",
       "    }\n",
       "</style>\n",
       "<table border=\"1\" class=\"dataframe\">\n",
       "  <thead>\n",
       "    <tr style=\"text-align: right;\">\n",
       "      <th></th>\n",
       "      <th>Pclass</th>\n",
       "      <th>Sex</th>\n",
       "      <th>Age_Class</th>\n",
       "      <th>SibSp</th>\n",
       "      <th>Parch</th>\n",
       "      <th>Fare</th>\n",
       "      <th>Embarked</th>\n",
       "      <th>Title</th>\n",
       "      <th>Deck</th>\n",
       "    </tr>\n",
       "  </thead>\n",
       "  <tbody>\n",
       "    <tr>\n",
       "      <th>0</th>\n",
       "      <td>3</td>\n",
       "      <td>0</td>\n",
       "      <td>0.294373</td>\n",
       "      <td>1</td>\n",
       "      <td>0</td>\n",
       "      <td>0.014151</td>\n",
       "      <td>0</td>\n",
       "      <td>3</td>\n",
       "      <td>7</td>\n",
       "    </tr>\n",
       "    <tr>\n",
       "      <th>1</th>\n",
       "      <td>1</td>\n",
       "      <td>1</td>\n",
       "      <td>0.167722</td>\n",
       "      <td>1</td>\n",
       "      <td>0</td>\n",
       "      <td>0.139136</td>\n",
       "      <td>2</td>\n",
       "      <td>4</td>\n",
       "      <td>2</td>\n",
       "    </tr>\n",
       "    <tr>\n",
       "      <th>2</th>\n",
       "      <td>3</td>\n",
       "      <td>1</td>\n",
       "      <td>0.348652</td>\n",
       "      <td>0</td>\n",
       "      <td>0</td>\n",
       "      <td>0.015469</td>\n",
       "      <td>0</td>\n",
       "      <td>2</td>\n",
       "      <td>7</td>\n",
       "    </tr>\n",
       "    <tr>\n",
       "      <th>3</th>\n",
       "      <td>1</td>\n",
       "      <td>1</td>\n",
       "      <td>0.154152</td>\n",
       "      <td>1</td>\n",
       "      <td>0</td>\n",
       "      <td>0.103644</td>\n",
       "      <td>0</td>\n",
       "      <td>4</td>\n",
       "      <td>2</td>\n",
       "    </tr>\n",
       "    <tr>\n",
       "      <th>4</th>\n",
       "      <td>3</td>\n",
       "      <td>0</td>\n",
       "      <td>0.470780</td>\n",
       "      <td>0</td>\n",
       "      <td>0</td>\n",
       "      <td>0.015713</td>\n",
       "      <td>0</td>\n",
       "      <td>3</td>\n",
       "      <td>7</td>\n",
       "    </tr>\n",
       "  </tbody>\n",
       "</table>\n",
       "</div>"
      ],
      "text/plain": [
       "   Pclass  Sex  Age_Class  SibSp  Parch      Fare  Embarked  Title  Deck\n",
       "0       3    0   0.294373      1      0  0.014151         0      3     7\n",
       "1       1    1   0.167722      1      0  0.139136         2      4     2\n",
       "2       3    1   0.348652      0      0  0.015469         0      2     7\n",
       "3       1    1   0.154152      1      0  0.103644         0      4     2\n",
       "4       3    0   0.470780      0      0  0.015713         0      3     7"
      ]
     },
     "execution_count": 31,
     "metadata": {},
     "output_type": "execute_result"
    }
   ],
   "source": [
    "# Separating feture variables from label\n",
    "df_X = df_train.drop(\"Survived\", axis = 1)\n",
    "df_y = df_train[\"Survived\"]\n",
    "df_X.head()"
   ]
  },
  {
   "cell_type": "code",
   "execution_count": 32,
   "id": "6fedc57f",
   "metadata": {
    "scrolled": false
   },
   "outputs": [],
   "source": [
    "X = df_X\n",
    "y = df_y.astype(int)"
   ]
  },
  {
   "cell_type": "code",
   "execution_count": 33,
   "id": "85604a98",
   "metadata": {},
   "outputs": [
    {
     "data": {
      "text/plain": [
       "((891, 9), (891,))"
      ]
     },
     "execution_count": 33,
     "metadata": {},
     "output_type": "execute_result"
    }
   ],
   "source": [
    "X.shape, y.shape"
   ]
  },
  {
   "cell_type": "code",
   "execution_count": 34,
   "id": "19be37eb",
   "metadata": {},
   "outputs": [],
   "source": [
    "# # Splitting X and y into training and validation set using a 'test size' of 20%\n",
    "\n",
    "# X_train, X_val, y_train, y_val = train_test_split(X,\n",
    "#                                                   y,\n",
    "#                                                   test_size = 0.2)\n",
    "# X_train.shape, X_val.shape, y_train.shape, y_val.shape"
   ]
  },
  {
   "cell_type": "markdown",
   "id": "3698105b",
   "metadata": {},
   "source": [
    "### Phase 3: Fitting the chosen models"
   ]
  },
  {
   "cell_type": "code",
   "execution_count": 35,
   "id": "85c0d7ff",
   "metadata": {},
   "outputs": [],
   "source": [
    "# Creating a grid of models\n",
    "\n",
    "np.random.seed(42)\n",
    "model_grid = {\n",
    "    \"LogisticRegression\" : LogisticRegression(max_iter = 2000),\n",
    "    \"KNN\": KNeighborsClassifier(),\n",
    "    \"RandomForestClassifier\": RandomForestClassifier(),\n",
    "    \"Linear_SVC\" : SVC(kernel = \"linear\"),\n",
    "    \"rbf_SVC\" : SVC(),\n",
    "    \"GradientBoostingClassifier\" : GradientBoostingClassifier()\n",
    "}\n",
    "\n",
    "results = {}"
   ]
  },
  {
   "cell_type": "code",
   "execution_count": 36,
   "id": "4ddba4b1",
   "metadata": {
    "scrolled": true
   },
   "outputs": [],
   "source": [
    "# Creating a loop  that fits and scores the baseline models:\n",
    "np.random.seed(42)\n",
    "for model_name, model in model_grid.items():\n",
    "    model.fit(X, y)\n",
    "    results[model_name] = np.mean(cross_val_score(model,X,y, cv =5, scoring = \"accuracy\"))\n",
    "    "
   ]
  },
  {
   "cell_type": "code",
   "execution_count": 37,
   "id": "8513c83c",
   "metadata": {
    "scrolled": true
   },
   "outputs": [
    {
     "data": {
      "text/plain": [
       "{'LogisticRegression': 0.7878852551628899,\n",
       " 'KNN': 0.8103320569957944,\n",
       " 'RandomForestClassifier': 0.810344611135522,\n",
       " 'Linear_SVC': 0.7867365513778168,\n",
       " 'rbf_SVC': 0.7934906785512522,\n",
       " 'GradientBoostingClassifier': 0.8327788588286988}"
      ]
     },
     "execution_count": 37,
     "metadata": {},
     "output_type": "execute_result"
    }
   ],
   "source": [
    "results"
   ]
  },
  {
   "cell_type": "markdown",
   "id": "b4586d1f",
   "metadata": {},
   "source": [
    "### Phase 4: Hyperparameter tuning "
   ]
  },
  {
   "cell_type": "markdown",
   "id": "c08054d3",
   "metadata": {},
   "source": [
    "#### Logististic Regression"
   ]
  },
  {
   "cell_type": "code",
   "execution_count": 38,
   "id": "a852fe8e",
   "metadata": {},
   "outputs": [
    {
     "name": "stdout",
     "output_type": "stream",
     "text": [
      "Fitting 5 folds for each of 40 candidates, totalling 200 fits\n",
      "Fitting 5 folds for each of 40 candidates, totalling 200 fits\n",
      "Fitting 5 folds for each of 40 candidates, totalling 200 fits\n",
      "Fitting 5 folds for each of 40 candidates, totalling 200 fits\n",
      "Fitting 5 folds for each of 40 candidates, totalling 200 fits\n",
      "Fitting 5 folds for each of 40 candidates, totalling 200 fits\n"
     ]
    },
    {
     "data": {
      "text/plain": [
       "0.7890025735986442"
      ]
     },
     "execution_count": 38,
     "metadata": {},
     "output_type": "execute_result"
    }
   ],
   "source": [
    "model_log = LogisticRegression(random_state = 42)\n",
    "gs_param_log = {\n",
    "    \"penalty\" : [\"l1\",\"l2\"],\n",
    "    \"C\" : np.logspace(-4,4,20),\n",
    "    \"solver\" : [\"liblinear\"]\n",
    "    \n",
    "}\n",
    "\n",
    "gs_model = GridSearchCV(model_log, gs_param_log, cv = 5, verbose = True)\n",
    "gs_model.fit(X, y)\n",
    "np.mean(cross_val_score(gs_model, X, y, cv = 5))"
   ]
  },
  {
   "cell_type": "code",
   "execution_count": 39,
   "id": "6e1f3d60",
   "metadata": {},
   "outputs": [
    {
     "data": {
      "text/plain": [
       "{'C': 0.03359818286283781, 'penalty': 'l2', 'solver': 'liblinear'}"
      ]
     },
     "execution_count": 39,
     "metadata": {},
     "output_type": "execute_result"
    }
   ],
   "source": [
    "gs_model.best_params_"
   ]
  },
  {
   "cell_type": "markdown",
   "id": "8ed1cbd6",
   "metadata": {},
   "source": [
    "#### RandomForestClassifier"
   ]
  },
  {
   "cell_type": "code",
   "execution_count": 40,
   "id": "89443038",
   "metadata": {
    "scrolled": true
   },
   "outputs": [
    {
     "name": "stdout",
     "output_type": "stream",
     "text": [
      "Fitting 5 folds for each of 160 candidates, totalling 800 fits\n",
      "Fitting 5 folds for each of 160 candidates, totalling 800 fits\n",
      "Fitting 5 folds for each of 160 candidates, totalling 800 fits\n",
      "Fitting 5 folds for each of 160 candidates, totalling 800 fits\n",
      "Fitting 5 folds for each of 160 candidates, totalling 800 fits\n",
      "Fitting 5 folds for each of 160 candidates, totalling 800 fits\n"
     ]
    },
    {
     "data": {
      "text/plain": [
       "0.8350260498399347"
      ]
     },
     "execution_count": 40,
     "metadata": {},
     "output_type": "execute_result"
    }
   ],
   "source": [
    "model_rf = RandomForestClassifier(random_state = 42)\n",
    "gs_param_rf = {\n",
    "    \"n_estimators\" : np.arange(10,500,50),\n",
    "    \"max_depth\" : [None, 10],\n",
    "    \"min_samples_split\" : [4,6],\n",
    "    \"min_samples_leaf\" : [1,2],\n",
    "    \"max_features\" : [\"auto\", \"log2\"]\n",
    "}\n",
    "\n",
    "gs_model = GridSearchCV(model_rf, gs_param_rf, cv = 5, verbose = True)\n",
    "gs_model.fit(X,y)\n",
    "np.mean(cross_val_score(gs_model, X, y, cv = 5))"
   ]
  },
  {
   "cell_type": "code",
   "execution_count": 41,
   "id": "302aa47a",
   "metadata": {},
   "outputs": [
    {
     "data": {
      "text/plain": [
       "{'max_depth': None,\n",
       " 'max_features': 'auto',\n",
       " 'min_samples_leaf': 2,\n",
       " 'min_samples_split': 4,\n",
       " 'n_estimators': 110}"
      ]
     },
     "execution_count": 41,
     "metadata": {},
     "output_type": "execute_result"
    }
   ],
   "source": [
    "gs_model.best_params_"
   ]
  },
  {
   "cell_type": "markdown",
   "id": "e9fba419",
   "metadata": {},
   "source": [
    "#### KNN"
   ]
  },
  {
   "cell_type": "code",
   "execution_count": 42,
   "id": "1b66a432",
   "metadata": {},
   "outputs": [
    {
     "name": "stdout",
     "output_type": "stream",
     "text": [
      "Fitting 5 folds for each of 24 candidates, totalling 120 fits\n",
      "Fitting 5 folds for each of 24 candidates, totalling 120 fits\n",
      "Fitting 5 folds for each of 24 candidates, totalling 120 fits\n",
      "Fitting 5 folds for each of 24 candidates, totalling 120 fits\n",
      "Fitting 5 folds for each of 24 candidates, totalling 120 fits\n",
      "Fitting 5 folds for each of 24 candidates, totalling 120 fits\n"
     ]
    },
    {
     "data": {
      "text/plain": [
       "0.8215617349821104"
      ]
     },
     "execution_count": 42,
     "metadata": {},
     "output_type": "execute_result"
    }
   ],
   "source": [
    "np.random.seed(42)\n",
    "model_knn = KNeighborsClassifier()\n",
    "gs_param_knn = {\n",
    "    \"leaf_size\" : list(range(1,31,10)),\n",
    "    \"n_neighbors\" : list(range(1,41,10)),\n",
    "    \"p\" : [1,2]\n",
    "}\n",
    "\n",
    "gs_model = GridSearchCV(model_knn, gs_param_knn, cv = 5, verbose = True)\n",
    "gs_model.fit(X,y)\n",
    "np.mean(cross_val_score(gs_model, X, y, cv = 5))"
   ]
  },
  {
   "cell_type": "code",
   "execution_count": 43,
   "id": "69eecf1e",
   "metadata": {},
   "outputs": [
    {
     "data": {
      "text/plain": [
       "{'leaf_size': 1, 'n_neighbors': 11, 'p': 1}"
      ]
     },
     "execution_count": 43,
     "metadata": {},
     "output_type": "execute_result"
    }
   ],
   "source": [
    "gs_model.best_params_"
   ]
  },
  {
   "cell_type": "markdown",
   "id": "27b81203",
   "metadata": {},
   "source": [
    "#### GradientBoostingClassifier"
   ]
  },
  {
   "cell_type": "code",
   "execution_count": 44,
   "id": "5f82921a",
   "metadata": {},
   "outputs": [
    {
     "name": "stdout",
     "output_type": "stream",
     "text": [
      "Fitting 5 folds for each of 144 candidates, totalling 720 fits\n",
      "Fitting 5 folds for each of 144 candidates, totalling 720 fits\n",
      "Fitting 5 folds for each of 144 candidates, totalling 720 fits\n",
      "Fitting 5 folds for each of 144 candidates, totalling 720 fits\n",
      "Fitting 5 folds for each of 144 candidates, totalling 720 fits\n",
      "Fitting 5 folds for each of 144 candidates, totalling 720 fits\n"
     ]
    },
    {
     "data": {
      "text/plain": [
       "0.8339087314041805"
      ]
     },
     "execution_count": 44,
     "metadata": {},
     "output_type": "execute_result"
    }
   ],
   "source": [
    "model_gr = GradientBoostingClassifier()\n",
    "gs_param_gr = {\n",
    "    \"n_estimators\" : np.arange(10,300,50),\n",
    "    \"max_depth\" : [None,5, 10],\n",
    "    \"min_samples_split\" : [4,6],\n",
    "    \"min_samples_leaf\" : [1,2],\n",
    "    \"max_features\" : [\"auto\", \"log2\"],\n",
    "    \"learning_rate\" : [0.05]\n",
    "}\n",
    "\n",
    "gs_model = GridSearchCV(model_gr, gs_param_gr, cv = 5, verbose = True)\n",
    "gs_model.fit(X,y)\n",
    "np.mean(cross_val_score(gs_model,\n",
    "                        X,\n",
    "                        y,\n",
    "                        cv = 5))"
   ]
  },
  {
   "cell_type": "code",
   "execution_count": 45,
   "id": "5a5cb022",
   "metadata": {},
   "outputs": [
    {
     "data": {
      "text/plain": [
       "{'learning_rate': 0.05,\n",
       " 'max_depth': 5,\n",
       " 'max_features': 'auto',\n",
       " 'min_samples_leaf': 2,\n",
       " 'min_samples_split': 6,\n",
       " 'n_estimators': 210}"
      ]
     },
     "execution_count": 45,
     "metadata": {},
     "output_type": "execute_result"
    }
   ],
   "source": [
    "gs_model.best_params_"
   ]
  },
  {
   "cell_type": "markdown",
   "id": "b71d8514",
   "metadata": {},
   "source": [
    "### Phase 5 : Fitting the best scoring model (i.e. RandomForestClassifier) on the entire training set"
   ]
  },
  {
   "cell_type": "code",
   "execution_count": 46,
   "id": "b13250cd",
   "metadata": {},
   "outputs": [
    {
     "data": {
      "text/plain": [
       "GradientBoostingClassifier(learning_rate=0.05, max_depth=5, max_features='log2',\n",
       "                           min_samples_leaf=2, min_samples_split=4,\n",
       "                           n_estimators=210, random_state=42)"
      ]
     },
     "execution_count": 46,
     "metadata": {},
     "output_type": "execute_result"
    }
   ],
   "source": [
    "clf = GradientBoostingClassifier(learning_rate = 0.05,\n",
    "                                 max_depth = 5,\n",
    "                                 max_features = \"log2\",\n",
    "                                 min_samples_leaf = 2,\n",
    "                                 min_samples_split = 4,\n",
    "                                 n_estimators = 210,\n",
    "                                 random_state = 42)\n",
    "\n",
    "clf.fit(X,y)"
   ]
  },
  {
   "cell_type": "code",
   "execution_count": 47,
   "id": "356be9f7",
   "metadata": {},
   "outputs": [
    {
     "data": {
      "text/plain": [
       "0.840631473228297"
      ]
     },
     "execution_count": 47,
     "metadata": {},
     "output_type": "execute_result"
    }
   ],
   "source": [
    "cross_val = cross_val_score(clf,\n",
    "                            X,\n",
    "                            y,\n",
    "                            cv = 5)\n",
    "np.mean(cross_val)"
   ]
  },
  {
   "cell_type": "markdown",
   "id": "60319f23",
   "metadata": {},
   "source": [
    "#### Feature importance"
   ]
  },
  {
   "cell_type": "code",
   "execution_count": 48,
   "id": "f0a3852c",
   "metadata": {
    "scrolled": true
   },
   "outputs": [
    {
     "data": {
      "text/plain": [
       "<AxesSubplot:>"
      ]
     },
     "execution_count": 48,
     "metadata": {},
     "output_type": "execute_result"
    },
    {
     "data": {
      "image/png": "[encoded data removed]",
      "text/plain": [
       "<Figure size 432x288 with 1 Axes>"
      ]
     },
     "metadata": {},
     "output_type": "display_data"
    }
   ],
   "source": [
    "from sklearn.inspection import permutation_importance\n",
    "sns.set_style(\"whitegrid\")\n",
    "\n",
    "result = permutation_importance(\n",
    "    clf, X, y, n_repeats=10, random_state=42, n_jobs=2\n",
    ")\n",
    "feature_names = df_X.columns\n",
    "forest_importances = pd.Series(result.importances_mean, index=feature_names)\n",
    "forest_importances.plot(kind = \"bar\",\n",
    "                        colormap =\"viridis\")"
   ]
  },
  {
   "cell_type": "markdown",
   "id": "27092d7c",
   "metadata": {},
   "source": [
    "### Phase 6: Evaluation"
   ]
  },
  {
   "cell_type": "code",
   "execution_count": 49,
   "id": "0f11e464",
   "metadata": {},
   "outputs": [
    {
     "data": {
      "text/plain": [
       "<AxesSubplot:title={'center':'Evaluation Metrics'}>"
      ]
     },
     "execution_count": 49,
     "metadata": {},
     "output_type": "execute_result"
    },
    {
     "data": {
      "image/png": "[encoded data removed]",
      "text/plain": [
       "<Figure size 720x432 with 1 Axes>"
      ]
     },
     "metadata": {},
     "output_type": "display_data"
    }
   ],
   "source": [
    "scoring_types = [\"accuracy\", \"precision\", \"recall\", \"f1\"]\n",
    "scores = []\n",
    "def score_plots(model):\n",
    "    for i in scoring_types: \n",
    "        x = np.mean(cross_val_score(model, X, y, cv = 5, scoring = i))\n",
    "        scores.append(x)\n",
    "    df_scores = pd.DataFrame(scores, index = (scoring_types))\n",
    "    fig, ax = plt.subplots(figsize = (10,6))\n",
    "    score_plot = df_scores.plot.bar(title = \"Evaluation Metrics\",\n",
    "                                    ax = ax, \n",
    "                                    legend = None)\n",
    "    return score_plot\n",
    "\n",
    "score_plots(clf)    "
   ]
  },
  {
   "cell_type": "code",
   "execution_count": null,
   "id": "dc10df01",
   "metadata": {},
   "outputs": [],
   "source": []
  },
  {
   "cell_type": "code",
   "execution_count": 50,
   "id": "e5aa4f12",
   "metadata": {},
   "outputs": [
    {
     "ename": "KeyError",
     "evalue": "\"None of [Int64Index([168, 169, 170, 171, 173, 174, 175, 176, 177, 178,\\n            ...\\n            881, 882, 883, 884, 885, 886, 887, 888, 889, 890],\\n           dtype='int64', length=712)] are in the [columns]\"",
     "output_type": "error",
     "traceback": [
      "\u001b[1;31m---------------------------------------------------------------------------\u001b[0m",
      "\u001b[1;31mKeyError\u001b[0m                                  Traceback (most recent call last)",
      "\u001b[1;32m~\\AppData\\Local\\Temp/ipykernel_10904/214116000.py\u001b[0m in \u001b[0;36m<module>\u001b[1;34m\u001b[0m\n\u001b[0;32m      9\u001b[0m \u001b[0mfig\u001b[0m\u001b[1;33m,\u001b[0m \u001b[0max\u001b[0m \u001b[1;33m=\u001b[0m \u001b[0mplt\u001b[0m\u001b[1;33m.\u001b[0m\u001b[0msubplots\u001b[0m\u001b[1;33m(\u001b[0m\u001b[1;33m)\u001b[0m\u001b[1;33m\u001b[0m\u001b[1;33m\u001b[0m\u001b[0m\n\u001b[0;32m     10\u001b[0m \u001b[1;32mfor\u001b[0m \u001b[0midx\u001b[0m\u001b[1;33m,\u001b[0m \u001b[1;33m(\u001b[0m\u001b[0mtrain\u001b[0m\u001b[1;33m,\u001b[0m \u001b[0mtest\u001b[0m\u001b[1;33m)\u001b[0m \u001b[1;32min\u001b[0m \u001b[0menumerate\u001b[0m\u001b[1;33m(\u001b[0m\u001b[0mcv\u001b[0m\u001b[1;33m.\u001b[0m\u001b[0msplit\u001b[0m\u001b[1;33m(\u001b[0m\u001b[0mX\u001b[0m\u001b[1;33m,\u001b[0m \u001b[0my\u001b[0m\u001b[1;33m)\u001b[0m\u001b[1;33m)\u001b[0m\u001b[1;33m:\u001b[0m\u001b[1;33m\u001b[0m\u001b[1;33m\u001b[0m\u001b[0m\n\u001b[1;32m---> 11\u001b[1;33m     \u001b[0mclf\u001b[0m\u001b[1;33m.\u001b[0m\u001b[0mfit\u001b[0m\u001b[1;33m(\u001b[0m\u001b[0mX\u001b[0m\u001b[1;33m[\u001b[0m\u001b[0mtrain\u001b[0m\u001b[1;33m]\u001b[0m\u001b[1;33m,\u001b[0m \u001b[0my\u001b[0m\u001b[1;33m[\u001b[0m\u001b[0mtrain\u001b[0m\u001b[1;33m]\u001b[0m\u001b[1;33m)\u001b[0m\u001b[1;33m\u001b[0m\u001b[1;33m\u001b[0m\u001b[0m\n\u001b[0m\u001b[0;32m     12\u001b[0m     viz = RocCurveDisplay.from_estimator(\n\u001b[0;32m     13\u001b[0m         \u001b[0mclf\u001b[0m\u001b[1;33m,\u001b[0m\u001b[1;33m\u001b[0m\u001b[1;33m\u001b[0m\u001b[0m\n",
      "\u001b[1;32m~\\Desktop\\titanic_project\\env\\lib\\site-packages\\pandas\\core\\frame.py\u001b[0m in \u001b[0;36m__getitem__\u001b[1;34m(self, key)\u001b[0m\n\u001b[0;32m   3462\u001b[0m             \u001b[1;32mif\u001b[0m \u001b[0mis_iterator\u001b[0m\u001b[1;33m(\u001b[0m\u001b[0mkey\u001b[0m\u001b[1;33m)\u001b[0m\u001b[1;33m:\u001b[0m\u001b[1;33m\u001b[0m\u001b[1;33m\u001b[0m\u001b[0m\n\u001b[0;32m   3463\u001b[0m                 \u001b[0mkey\u001b[0m \u001b[1;33m=\u001b[0m \u001b[0mlist\u001b[0m\u001b[1;33m(\u001b[0m\u001b[0mkey\u001b[0m\u001b[1;33m)\u001b[0m\u001b[1;33m\u001b[0m\u001b[1;33m\u001b[0m\u001b[0m\n\u001b[1;32m-> 3464\u001b[1;33m             \u001b[0mindexer\u001b[0m \u001b[1;33m=\u001b[0m \u001b[0mself\u001b[0m\u001b[1;33m.\u001b[0m\u001b[0mloc\u001b[0m\u001b[1;33m.\u001b[0m\u001b[0m_get_listlike_indexer\u001b[0m\u001b[1;33m(\u001b[0m\u001b[0mkey\u001b[0m\u001b[1;33m,\u001b[0m \u001b[0maxis\u001b[0m\u001b[1;33m=\u001b[0m\u001b[1;36m1\u001b[0m\u001b[1;33m)\u001b[0m\u001b[1;33m[\u001b[0m\u001b[1;36m1\u001b[0m\u001b[1;33m]\u001b[0m\u001b[1;33m\u001b[0m\u001b[1;33m\u001b[0m\u001b[0m\n\u001b[0m\u001b[0;32m   3465\u001b[0m \u001b[1;33m\u001b[0m\u001b[0m\n\u001b[0;32m   3466\u001b[0m         \u001b[1;31m# take() does not accept boolean indexers\u001b[0m\u001b[1;33m\u001b[0m\u001b[1;33m\u001b[0m\u001b[0m\n",
      "\u001b[1;32m~\\Desktop\\titanic_project\\env\\lib\\site-packages\\pandas\\core\\indexing.py\u001b[0m in \u001b[0;36m_get_listlike_indexer\u001b[1;34m(self, key, axis)\u001b[0m\n\u001b[0;32m   1312\u001b[0m             \u001b[0mkeyarr\u001b[0m\u001b[1;33m,\u001b[0m \u001b[0mindexer\u001b[0m\u001b[1;33m,\u001b[0m \u001b[0mnew_indexer\u001b[0m \u001b[1;33m=\u001b[0m \u001b[0max\u001b[0m\u001b[1;33m.\u001b[0m\u001b[0m_reindex_non_unique\u001b[0m\u001b[1;33m(\u001b[0m\u001b[0mkeyarr\u001b[0m\u001b[1;33m)\u001b[0m\u001b[1;33m\u001b[0m\u001b[1;33m\u001b[0m\u001b[0m\n\u001b[0;32m   1313\u001b[0m \u001b[1;33m\u001b[0m\u001b[0m\n\u001b[1;32m-> 1314\u001b[1;33m         \u001b[0mself\u001b[0m\u001b[1;33m.\u001b[0m\u001b[0m_validate_read_indexer\u001b[0m\u001b[1;33m(\u001b[0m\u001b[0mkeyarr\u001b[0m\u001b[1;33m,\u001b[0m \u001b[0mindexer\u001b[0m\u001b[1;33m,\u001b[0m \u001b[0maxis\u001b[0m\u001b[1;33m)\u001b[0m\u001b[1;33m\u001b[0m\u001b[1;33m\u001b[0m\u001b[0m\n\u001b[0m\u001b[0;32m   1315\u001b[0m \u001b[1;33m\u001b[0m\u001b[0m\n\u001b[0;32m   1316\u001b[0m         if needs_i8_conversion(ax.dtype) or isinstance(\n",
      "\u001b[1;32m~\\Desktop\\titanic_project\\env\\lib\\site-packages\\pandas\\core\\indexing.py\u001b[0m in \u001b[0;36m_validate_read_indexer\u001b[1;34m(self, key, indexer, axis)\u001b[0m\n\u001b[0;32m   1372\u001b[0m                 \u001b[1;32mif\u001b[0m \u001b[0muse_interval_msg\u001b[0m\u001b[1;33m:\u001b[0m\u001b[1;33m\u001b[0m\u001b[1;33m\u001b[0m\u001b[0m\n\u001b[0;32m   1373\u001b[0m                     \u001b[0mkey\u001b[0m \u001b[1;33m=\u001b[0m \u001b[0mlist\u001b[0m\u001b[1;33m(\u001b[0m\u001b[0mkey\u001b[0m\u001b[1;33m)\u001b[0m\u001b[1;33m\u001b[0m\u001b[1;33m\u001b[0m\u001b[0m\n\u001b[1;32m-> 1374\u001b[1;33m                 \u001b[1;32mraise\u001b[0m \u001b[0mKeyError\u001b[0m\u001b[1;33m(\u001b[0m\u001b[1;34mf\"None of [{key}] are in the [{axis_name}]\"\u001b[0m\u001b[1;33m)\u001b[0m\u001b[1;33m\u001b[0m\u001b[1;33m\u001b[0m\u001b[0m\n\u001b[0m\u001b[0;32m   1375\u001b[0m \u001b[1;33m\u001b[0m\u001b[0m\n\u001b[0;32m   1376\u001b[0m             \u001b[0mnot_found\u001b[0m \u001b[1;33m=\u001b[0m \u001b[0mlist\u001b[0m\u001b[1;33m(\u001b[0m\u001b[0mensure_index\u001b[0m\u001b[1;33m(\u001b[0m\u001b[0mkey\u001b[0m\u001b[1;33m)\u001b[0m\u001b[1;33m[\u001b[0m\u001b[0mmissing_mask\u001b[0m\u001b[1;33m.\u001b[0m\u001b[0mnonzero\u001b[0m\u001b[1;33m(\u001b[0m\u001b[1;33m)\u001b[0m\u001b[1;33m[\u001b[0m\u001b[1;36m0\u001b[0m\u001b[1;33m]\u001b[0m\u001b[1;33m]\u001b[0m\u001b[1;33m.\u001b[0m\u001b[0munique\u001b[0m\u001b[1;33m(\u001b[0m\u001b[1;33m)\u001b[0m\u001b[1;33m)\u001b[0m\u001b[1;33m\u001b[0m\u001b[1;33m\u001b[0m\u001b[0m\n",
      "\u001b[1;31mKeyError\u001b[0m: \"None of [Int64Index([168, 169, 170, 171, 173, 174, 175, 176, 177, 178,\\n            ...\\n            881, 882, 883, 884, 885, 886, 887, 888, 889, 890],\\n           dtype='int64', length=712)] are in the [columns]\""
     ]
    },
    {
     "data": {
      "image/png": "[encoded data removed]",
      "text/plain": [
       "<Figure size 432x288 with 1 Axes>"
      ]
     },
     "metadata": {},
     "output_type": "display_data"
    }
   ],
   "source": [
    "# Plotting cross validated Roc Curve \n",
    "\n",
    "cv = StratifiedKFold(n_splits=5)\n",
    "\n",
    "# tprs = []\n",
    "# aucs = []\n",
    "# mean_fpr = np.linspace(0, 1, 100)\n",
    "\n",
    "fig, ax = plt.subplots()\n",
    "for idx, (train, test) in enumerate(cv.split(X, y)):\n",
    "    clf.fit(X[train], y[train])\n",
    "    viz = RocCurveDisplay.from_estimator(\n",
    "        clf,\n",
    "        X[test],\n",
    "        y[test],\n",
    "        name=f\"ROC fold {i +1}\",\n",
    "        ax=ax,\n",
    "    )\n",
    "#     interp_tpr = np.interp(mean_fpr, viz.fpr, viz.tpr)\n",
    "#     interp_tpr[0] = 0.0\n",
    "#     tprs.append(interp_tpr)\n",
    "#     aucs.append(viz.roc_auc)\n",
    "\n",
    "ax.plot([0, 1], [0, 1], linestyle=\"--\",  color=\"r\", label=\"Random\")"
   ]
  },
  {
   "cell_type": "markdown",
   "id": "50bb2c3d",
   "metadata": {},
   "source": [
    "### Phase 7 : Creating predictions on the test set"
   ]
  },
  {
   "cell_type": "code",
   "execution_count": null,
   "id": "7eaa3248",
   "metadata": {
    "scrolled": true
   },
   "outputs": [],
   "source": [
    "df_test"
   ]
  },
  {
   "cell_type": "code",
   "execution_count": null,
   "id": "68384e02",
   "metadata": {},
   "outputs": [],
   "source": [
    "# Read test set \n",
    "df_test = pd.read_csv(\"test.csv\")\n",
    "\n",
    "# Create titles from names\n",
    "df_test[\"Title\"] = pd.Series(title_split(df_test))\n",
    "title_cat(df_test)\n",
    "\n",
    "# Derive Decks from Cabin \n",
    "df_test[\"Cabin\"] = df_test[\"Cabin\"].fillna(\"Unknown\")\n",
    "df_test[\"Deck\"] = df_test[\"Cabin\"].map(lambda x : find_deck(x,deck_list, df_test))\n",
    "\n",
    "# Create other attributes \n",
    "df_test[\"Family_Members\"] = df_test.SibSp + df_test.Parch\n",
    "df_test[\"Family_Size\"] = df_test.SibSp + df_test.Parch + 1\n",
    "\n",
    "# Imputation \n",
    "fill_missing_values(df_test)\n",
    "\n",
    "# Create additional attributes\n",
    "df_test[\"Age_Class\"] = df_training.Age * df_training.Pclass\n",
    "df_test[\"Fare_per_person\"] = df_test.Fare / (df_test[\"Family_Members\"] + 1)\n",
    "\n",
    "# Encode object variables\n",
    "encoder(df_test)\n",
    "\n",
    "# Normalize float variables with scailing\n",
    "df_test[[\"Fare_per_person\", \"Age_Class\", \"Fare\", \"Age\"]] = scaler.fit_transform(df_test[[\"Fare_per_person\", \"Age_Class\", \"Fare\", \"Age\"]])\n",
    "\n",
    "# Collect feature variables to include in the model\n",
    "df_test_final = df_test[[\"Pclass\",\"Sex\", \"Age_Class\", \"SibSp\", \"Parch\", \"Fare\", \"Embarked\", \"Title\", \"Deck\"]]\n",
    "\n",
    "# Creating predictions on test set \n",
    "X_test = df_test_final\n",
    "y_preds = clf.predict(X_test)\n",
    "\n",
    "# Ensemble prediciton csv \n",
    "\n",
    "model_predictions = pd.DataFrame(df_test[\"PassengerId\"])\n",
    "model_predictions[\"Survived\"] = y_preds\n",
    "\n",
    "model_predictions.to_csv(\"Titanic_Survival_Predictions.csv\")"
   ]
  },
  {
   "cell_type": "code",
   "execution_count": null,
   "id": "5bfb2798",
   "metadata": {},
   "outputs": [],
   "source": []
  }
 ],
 "metadata": {
  "kernelspec": {
   "display_name": "Python 3 (ipykernel)",
   "language": "python",
   "name": "python3"
  },
  "language_info": {
   "codemirror_mode": {
    "name": "ipython",
    "version": 3
   },
   "file_extension": ".py",
   "mimetype": "text/x-python",
   "name": "python",
   "nbconvert_exporter": "python",
   "pygments_lexer": "ipython3",
   "version": "3.9.7"
  }
 },
 "nbformat": 4,
 "nbformat_minor": 5
}
